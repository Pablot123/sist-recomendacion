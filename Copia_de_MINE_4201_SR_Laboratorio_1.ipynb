{
 "cells": [
  {
   "cell_type": "markdown",
   "metadata": {
    "colab_type": "text",
    "id": "view-in-github"
   },
   "source": [
    "<a href=\"https://colab.research.google.com/github/Pablot123/sist-recomendacion/blob/main/Copia_de_MINE_4201_SR_Laboratorio_1.ipynb\" target=\"_parent\"><img src=\"https://colab.research.google.com/assets/colab-badge.svg\" alt=\"Open In Colab\"/></a>"
   ]
  },
  {
   "cell_type": "markdown",
   "metadata": {
    "id": "-ODlNBWj3QZx"
   },
   "source": [
    "# MINE 4201- SR -  Laboratorio 1 \n",
    "# Exploración modelos KNN\n",
    "\n"
   ]
  },
  {
   "cell_type": "markdown",
   "metadata": {
    "id": "ed1-j-PSjcXX"
   },
   "source": [
    "Vamos a utilizar las siguientes librerias en el laboratorio\n"
   ]
  },
  {
   "cell_type": "code",
   "execution_count": 3,
   "metadata": {
    "colab": {
     "base_uri": "https://localhost:8080/"
    },
    "id": "g7SNsxhDkO6k",
    "outputId": "537df000-4632-42b5-d271-b74cbc67af45"
   },
   "outputs": [
    {
     "name": "stdout",
     "output_type": "stream",
     "text": [
      "Requirement already satisfied: numpy in /usr/local/lib/python3.6/dist-packages (1.19.5)\n",
      "Collecting scikit-surprise\n",
      "\u001b[?25l  Downloading https://files.pythonhosted.org/packages/97/37/5d334adaf5ddd65da99fc65f6507e0e4599d092ba048f4302fe8775619e8/scikit-surprise-1.1.1.tar.gz (11.8MB)\n",
      "\u001b[K     |████████████████████████████████| 11.8MB 6.0MB/s \n",
      "\u001b[?25hRequirement already satisfied: joblib>=0.11 in /usr/local/lib/python3.6/dist-packages (from scikit-surprise) (1.0.0)\n",
      "Requirement already satisfied: numpy>=1.11.2 in /usr/local/lib/python3.6/dist-packages (from scikit-surprise) (1.19.5)\n",
      "Requirement already satisfied: scipy>=1.0.0 in /usr/local/lib/python3.6/dist-packages (from scikit-surprise) (1.4.1)\n",
      "Requirement already satisfied: six>=1.10.0 in /usr/local/lib/python3.6/dist-packages (from scikit-surprise) (1.15.0)\n",
      "Building wheels for collected packages: scikit-surprise\n",
      "  Building wheel for scikit-surprise (setup.py) ... \u001b[?25l\u001b[?25hdone\n",
      "  Created wheel for scikit-surprise: filename=scikit_surprise-1.1.1-cp36-cp36m-linux_x86_64.whl size=1618282 sha256=89aa41229e6e3431b0072295a2b14d60e73db0fce0445914c48fcb7691467e9d\n",
      "  Stored in directory: /root/.cache/pip/wheels/78/9c/3d/41b419c9d2aff5b6e2b4c0fc8d25c538202834058f9ed110d0\n",
      "Successfully built scikit-surprise\n",
      "Installing collected packages: scikit-surprise\n",
      "Successfully installed scikit-surprise-1.1.1\n",
      "Requirement already satisfied: pandas in /usr/local/lib/python3.6/dist-packages (1.1.5)\n",
      "Requirement already satisfied: numpy>=1.15.4 in /usr/local/lib/python3.6/dist-packages (from pandas) (1.19.5)\n",
      "Requirement already satisfied: pytz>=2017.2 in /usr/local/lib/python3.6/dist-packages (from pandas) (2018.9)\n",
      "Requirement already satisfied: python-dateutil>=2.7.3 in /usr/local/lib/python3.6/dist-packages (from pandas) (2.8.1)\n",
      "Requirement already satisfied: six>=1.5 in /usr/local/lib/python3.6/dist-packages (from python-dateutil>=2.7.3->pandas) (1.15.0)\n",
      "Requirement already satisfied: seaborn in /usr/local/lib/python3.6/dist-packages (0.11.1)\n",
      "Requirement already satisfied: pandas>=0.23 in /usr/local/lib/python3.6/dist-packages (from seaborn) (1.1.5)\n",
      "Requirement already satisfied: numpy>=1.15 in /usr/local/lib/python3.6/dist-packages (from seaborn) (1.19.5)\n",
      "Requirement already satisfied: matplotlib>=2.2 in /usr/local/lib/python3.6/dist-packages (from seaborn) (3.2.2)\n",
      "Requirement already satisfied: scipy>=1.0 in /usr/local/lib/python3.6/dist-packages (from seaborn) (1.4.1)\n",
      "Requirement already satisfied: pytz>=2017.2 in /usr/local/lib/python3.6/dist-packages (from pandas>=0.23->seaborn) (2018.9)\n",
      "Requirement already satisfied: python-dateutil>=2.7.3 in /usr/local/lib/python3.6/dist-packages (from pandas>=0.23->seaborn) (2.8.1)\n",
      "Requirement already satisfied: kiwisolver>=1.0.1 in /usr/local/lib/python3.6/dist-packages (from matplotlib>=2.2->seaborn) (1.3.1)\n",
      "Requirement already satisfied: pyparsing!=2.0.4,!=2.1.2,!=2.1.6,>=2.0.1 in /usr/local/lib/python3.6/dist-packages (from matplotlib>=2.2->seaborn) (2.4.7)\n",
      "Requirement already satisfied: cycler>=0.10 in /usr/local/lib/python3.6/dist-packages (from matplotlib>=2.2->seaborn) (0.10.0)\n",
      "Requirement already satisfied: six>=1.5 in /usr/local/lib/python3.6/dist-packages (from python-dateutil>=2.7.3->pandas>=0.23->seaborn) (1.15.0)\n"
     ]
    }
   ],
   "source": [
    "!pip install numpy\n",
    "!pip install scikit-surprise\n",
    "!pip install pandas\n",
    "!pip install seaborn"
   ]
  },
  {
   "cell_type": "code",
   "execution_count": 6,
   "metadata": {
    "colab": {
     "base_uri": "https://localhost:8080/",
     "height": 35
    },
    "id": "Ue3y8dqL7osB",
    "outputId": "6757252d-359b-41fd-b37d-7ebab9426555"
   },
   "outputs": [
    {
     "data": {
      "text/plain": [
       "'D:\\\\workspace-uniandes\\\\sist-recomendacion'"
      ]
     },
     "execution_count": 6,
     "metadata": {},
     "output_type": "execute_result"
    }
   ],
   "source": [
    "pwd\n"
   ]
  },
  {
   "cell_type": "code",
   "execution_count": 1,
   "metadata": {
    "id": "MZy484IS5l04"
   },
   "outputs": [],
   "source": [
    "import os\n",
    "import numpy as np\n",
    "import pandas as pd\n",
    "import seaborn as sns\n",
    "from surprise import Reader\n",
    "from surprise import Dataset\n",
    "from surprise.model_selection import train_test_split\n",
    "from surprise import KNNBasic\n",
    "from surprise import accuracy\n",
    "import random\n",
    "\n",
    "#Para garantizar reproducibilidad en resultados\n",
    "seed = 10\n",
    "random.seed(seed)\n",
    "np.random.seed(seed)\n"
   ]
  },
  {
   "cell_type": "markdown",
   "metadata": {
    "id": "VApWKvPdWmtm"
   },
   "source": [
    "## Suba al servidor los archivos u.data y u.item que se encuentran en el dataset descargado, en la pestaña files"
   ]
  },
  {
   "cell_type": "code",
   "execution_count": 13,
   "metadata": {
    "colab": {
     "base_uri": "https://localhost:8080/"
    },
    "id": "-ayxnwj06r4C",
    "outputId": "c17eab8c-2b04-4629-a4c3-e766631fd6a7"
   },
   "outputs": [
    {
     "name": "stdout",
     "output_type": "stream",
     "text": [
      "Los archivos han sido cargados\n"
     ]
    }
   ],
   "source": [
    "if not (os.path.exists('./content/u.data') and os.path.exists('./content/u.item')):\n",
    "  raise ValueError('Los archivos u.data e u.item no fueron encontrados en el path')\n",
    "else:\n",
    "  print(\"Los archivos han sido cargados\")"
   ]
  },
  {
   "cell_type": "code",
   "execution_count": 15,
   "metadata": {
    "id": "2fY0BV4Y7Cfn"
   },
   "outputs": [],
   "source": [
    "ratings=pd.read_csv('./content/u.data', sep = '\\t', names = [ 'user_id', 'item_id', 'rating', 'timestamp' ] )"
   ]
  },
  {
   "cell_type": "code",
   "execution_count": 16,
   "metadata": {
    "colab": {
     "base_uri": "https://localhost:8080/"
    },
    "id": "4xh6HByEXjLN",
    "outputId": "59e029b2-48d7-4c74-ff88-cca4aa941ab9"
   },
   "outputs": [
    {
     "name": "stderr",
     "output_type": "stream",
     "text": [
      "<ipython-input-16-dad7e3c21798>:1: ParserWarning: Falling back to the 'python' engine because the 'c' engine does not support regex separators (separators > 1 char and different from '\\s+' are interpreted as regex); you can avoid this warning by specifying engine='python'.\n",
      "  items=pd.read_csv('./content/u.item', sep = '\\|', names = ['movie id' ,'movie title','release date','video release date','IMDb URL ','unknown',\n"
     ]
    }
   ],
   "source": [
    "items=pd.read_csv('./content/u.item', sep = '\\|', names = ['movie id' ,'movie title','release date','video release date','IMDb URL ','unknown',\n",
    "                                                          'Action','Adventure','Animation','Children','Comedy','Crime','Documentary','Drama',\n",
    "                                                          'Fantasy','Film-Noir','Horror','Musical','Mystery','Romance','Sci-Fi','Thriller','War','Western'], encoding='latin-1' )"
   ]
  },
  {
   "cell_type": "markdown",
   "metadata": {
    "id": "hyGTV0lPiGZJ"
   },
   "source": [
    "Verifique que los ratings y los items hayan sido cargados correctamente\n",
    "\n",
    "\n",
    "\n"
   ]
  },
  {
   "cell_type": "code",
   "execution_count": 17,
   "metadata": {
    "colab": {
     "base_uri": "https://localhost:8080/",
     "height": 204
    },
    "id": "JF-3Z1T4iAaI",
    "outputId": "5b6b1084-54cb-414c-b021-2845134216c4"
   },
   "outputs": [
    {
     "data": {
      "text/html": [
       "<div>\n",
       "<style scoped>\n",
       "    .dataframe tbody tr th:only-of-type {\n",
       "        vertical-align: middle;\n",
       "    }\n",
       "\n",
       "    .dataframe tbody tr th {\n",
       "        vertical-align: top;\n",
       "    }\n",
       "\n",
       "    .dataframe thead th {\n",
       "        text-align: right;\n",
       "    }\n",
       "</style>\n",
       "<table border=\"1\" class=\"dataframe\">\n",
       "  <thead>\n",
       "    <tr style=\"text-align: right;\">\n",
       "      <th></th>\n",
       "      <th>user_id</th>\n",
       "      <th>item_id</th>\n",
       "      <th>rating</th>\n",
       "      <th>timestamp</th>\n",
       "    </tr>\n",
       "  </thead>\n",
       "  <tbody>\n",
       "    <tr>\n",
       "      <th>0</th>\n",
       "      <td>196</td>\n",
       "      <td>242</td>\n",
       "      <td>3</td>\n",
       "      <td>881250949</td>\n",
       "    </tr>\n",
       "    <tr>\n",
       "      <th>1</th>\n",
       "      <td>186</td>\n",
       "      <td>302</td>\n",
       "      <td>3</td>\n",
       "      <td>891717742</td>\n",
       "    </tr>\n",
       "    <tr>\n",
       "      <th>2</th>\n",
       "      <td>22</td>\n",
       "      <td>377</td>\n",
       "      <td>1</td>\n",
       "      <td>878887116</td>\n",
       "    </tr>\n",
       "    <tr>\n",
       "      <th>3</th>\n",
       "      <td>244</td>\n",
       "      <td>51</td>\n",
       "      <td>2</td>\n",
       "      <td>880606923</td>\n",
       "    </tr>\n",
       "    <tr>\n",
       "      <th>4</th>\n",
       "      <td>166</td>\n",
       "      <td>346</td>\n",
       "      <td>1</td>\n",
       "      <td>886397596</td>\n",
       "    </tr>\n",
       "  </tbody>\n",
       "</table>\n",
       "</div>"
      ],
      "text/plain": [
       "   user_id  item_id  rating  timestamp\n",
       "0      196      242       3  881250949\n",
       "1      186      302       3  891717742\n",
       "2       22      377       1  878887116\n",
       "3      244       51       2  880606923\n",
       "4      166      346       1  886397596"
      ]
     },
     "execution_count": 17,
     "metadata": {},
     "output_type": "execute_result"
    }
   ],
   "source": [
    "ratings.head()\n",
    "\n"
   ]
  },
  {
   "cell_type": "code",
   "execution_count": 18,
   "metadata": {
    "id": "ztMyJLZjRIiU"
   },
   "outputs": [],
   "source": [
    "# Se cambia el índice por la columna movie id\n",
    "items=items.set_index(items['movie id'])"
   ]
  },
  {
   "cell_type": "code",
   "execution_count": 19,
   "metadata": {
    "colab": {
     "base_uri": "https://localhost:8080/",
     "height": 425
    },
    "id": "2_B1Bpq3xF18",
    "outputId": "1d920cb6-d001-4d60-8836-6b0a87f261c4"
   },
   "outputs": [
    {
     "data": {
      "text/html": [
       "<div>\n",
       "<style scoped>\n",
       "    .dataframe tbody tr th:only-of-type {\n",
       "        vertical-align: middle;\n",
       "    }\n",
       "\n",
       "    .dataframe tbody tr th {\n",
       "        vertical-align: top;\n",
       "    }\n",
       "\n",
       "    .dataframe thead th {\n",
       "        text-align: right;\n",
       "    }\n",
       "</style>\n",
       "<table border=\"1\" class=\"dataframe\">\n",
       "  <thead>\n",
       "    <tr style=\"text-align: right;\">\n",
       "      <th></th>\n",
       "      <th>movie id</th>\n",
       "      <th>movie title</th>\n",
       "      <th>release date</th>\n",
       "      <th>video release date</th>\n",
       "      <th>IMDb URL</th>\n",
       "      <th>unknown</th>\n",
       "      <th>Action</th>\n",
       "      <th>Adventure</th>\n",
       "      <th>Animation</th>\n",
       "      <th>Children</th>\n",
       "      <th>...</th>\n",
       "      <th>Fantasy</th>\n",
       "      <th>Film-Noir</th>\n",
       "      <th>Horror</th>\n",
       "      <th>Musical</th>\n",
       "      <th>Mystery</th>\n",
       "      <th>Romance</th>\n",
       "      <th>Sci-Fi</th>\n",
       "      <th>Thriller</th>\n",
       "      <th>War</th>\n",
       "      <th>Western</th>\n",
       "    </tr>\n",
       "    <tr>\n",
       "      <th>movie id</th>\n",
       "      <th></th>\n",
       "      <th></th>\n",
       "      <th></th>\n",
       "      <th></th>\n",
       "      <th></th>\n",
       "      <th></th>\n",
       "      <th></th>\n",
       "      <th></th>\n",
       "      <th></th>\n",
       "      <th></th>\n",
       "      <th></th>\n",
       "      <th></th>\n",
       "      <th></th>\n",
       "      <th></th>\n",
       "      <th></th>\n",
       "      <th></th>\n",
       "      <th></th>\n",
       "      <th></th>\n",
       "      <th></th>\n",
       "      <th></th>\n",
       "      <th></th>\n",
       "    </tr>\n",
       "  </thead>\n",
       "  <tbody>\n",
       "    <tr>\n",
       "      <th>1</th>\n",
       "      <td>1</td>\n",
       "      <td>Toy Story (1995)</td>\n",
       "      <td>01-Jan-1995</td>\n",
       "      <td>NaN</td>\n",
       "      <td>http://us.imdb.com/M/title-exact?Toy%20Story%2...</td>\n",
       "      <td>0</td>\n",
       "      <td>0</td>\n",
       "      <td>0</td>\n",
       "      <td>1</td>\n",
       "      <td>1</td>\n",
       "      <td>...</td>\n",
       "      <td>0</td>\n",
       "      <td>0</td>\n",
       "      <td>0</td>\n",
       "      <td>0</td>\n",
       "      <td>0</td>\n",
       "      <td>0</td>\n",
       "      <td>0</td>\n",
       "      <td>0</td>\n",
       "      <td>0</td>\n",
       "      <td>0</td>\n",
       "    </tr>\n",
       "    <tr>\n",
       "      <th>2</th>\n",
       "      <td>2</td>\n",
       "      <td>GoldenEye (1995)</td>\n",
       "      <td>01-Jan-1995</td>\n",
       "      <td>NaN</td>\n",
       "      <td>http://us.imdb.com/M/title-exact?GoldenEye%20(...</td>\n",
       "      <td>0</td>\n",
       "      <td>1</td>\n",
       "      <td>1</td>\n",
       "      <td>0</td>\n",
       "      <td>0</td>\n",
       "      <td>...</td>\n",
       "      <td>0</td>\n",
       "      <td>0</td>\n",
       "      <td>0</td>\n",
       "      <td>0</td>\n",
       "      <td>0</td>\n",
       "      <td>0</td>\n",
       "      <td>0</td>\n",
       "      <td>1</td>\n",
       "      <td>0</td>\n",
       "      <td>0</td>\n",
       "    </tr>\n",
       "    <tr>\n",
       "      <th>3</th>\n",
       "      <td>3</td>\n",
       "      <td>Four Rooms (1995)</td>\n",
       "      <td>01-Jan-1995</td>\n",
       "      <td>NaN</td>\n",
       "      <td>http://us.imdb.com/M/title-exact?Four%20Rooms%...</td>\n",
       "      <td>0</td>\n",
       "      <td>0</td>\n",
       "      <td>0</td>\n",
       "      <td>0</td>\n",
       "      <td>0</td>\n",
       "      <td>...</td>\n",
       "      <td>0</td>\n",
       "      <td>0</td>\n",
       "      <td>0</td>\n",
       "      <td>0</td>\n",
       "      <td>0</td>\n",
       "      <td>0</td>\n",
       "      <td>0</td>\n",
       "      <td>1</td>\n",
       "      <td>0</td>\n",
       "      <td>0</td>\n",
       "    </tr>\n",
       "    <tr>\n",
       "      <th>4</th>\n",
       "      <td>4</td>\n",
       "      <td>Get Shorty (1995)</td>\n",
       "      <td>01-Jan-1995</td>\n",
       "      <td>NaN</td>\n",
       "      <td>http://us.imdb.com/M/title-exact?Get%20Shorty%...</td>\n",
       "      <td>0</td>\n",
       "      <td>1</td>\n",
       "      <td>0</td>\n",
       "      <td>0</td>\n",
       "      <td>0</td>\n",
       "      <td>...</td>\n",
       "      <td>0</td>\n",
       "      <td>0</td>\n",
       "      <td>0</td>\n",
       "      <td>0</td>\n",
       "      <td>0</td>\n",
       "      <td>0</td>\n",
       "      <td>0</td>\n",
       "      <td>0</td>\n",
       "      <td>0</td>\n",
       "      <td>0</td>\n",
       "    </tr>\n",
       "    <tr>\n",
       "      <th>5</th>\n",
       "      <td>5</td>\n",
       "      <td>Copycat (1995)</td>\n",
       "      <td>01-Jan-1995</td>\n",
       "      <td>NaN</td>\n",
       "      <td>http://us.imdb.com/M/title-exact?Copycat%20(1995)</td>\n",
       "      <td>0</td>\n",
       "      <td>0</td>\n",
       "      <td>0</td>\n",
       "      <td>0</td>\n",
       "      <td>0</td>\n",
       "      <td>...</td>\n",
       "      <td>0</td>\n",
       "      <td>0</td>\n",
       "      <td>0</td>\n",
       "      <td>0</td>\n",
       "      <td>0</td>\n",
       "      <td>0</td>\n",
       "      <td>0</td>\n",
       "      <td>1</td>\n",
       "      <td>0</td>\n",
       "      <td>0</td>\n",
       "    </tr>\n",
       "  </tbody>\n",
       "</table>\n",
       "<p>5 rows × 24 columns</p>\n",
       "</div>"
      ],
      "text/plain": [
       "          movie id        movie title release date  video release date  \\\n",
       "movie id                                                                 \n",
       "1                1   Toy Story (1995)  01-Jan-1995                 NaN   \n",
       "2                2   GoldenEye (1995)  01-Jan-1995                 NaN   \n",
       "3                3  Four Rooms (1995)  01-Jan-1995                 NaN   \n",
       "4                4  Get Shorty (1995)  01-Jan-1995                 NaN   \n",
       "5                5     Copycat (1995)  01-Jan-1995                 NaN   \n",
       "\n",
       "                                                  IMDb URL   unknown  Action  \\\n",
       "movie id                                                                       \n",
       "1         http://us.imdb.com/M/title-exact?Toy%20Story%2...        0       0   \n",
       "2         http://us.imdb.com/M/title-exact?GoldenEye%20(...        0       1   \n",
       "3         http://us.imdb.com/M/title-exact?Four%20Rooms%...        0       0   \n",
       "4         http://us.imdb.com/M/title-exact?Get%20Shorty%...        0       1   \n",
       "5         http://us.imdb.com/M/title-exact?Copycat%20(1995)        0       0   \n",
       "\n",
       "          Adventure  Animation  Children  ...  Fantasy  Film-Noir  Horror  \\\n",
       "movie id                                  ...                               \n",
       "1                 0          1         1  ...        0          0       0   \n",
       "2                 1          0         0  ...        0          0       0   \n",
       "3                 0          0         0  ...        0          0       0   \n",
       "4                 0          0         0  ...        0          0       0   \n",
       "5                 0          0         0  ...        0          0       0   \n",
       "\n",
       "          Musical  Mystery  Romance  Sci-Fi  Thriller  War  Western  \n",
       "movie id                                                             \n",
       "1               0        0        0       0         0    0        0  \n",
       "2               0        0        0       0         1    0        0  \n",
       "3               0        0        0       0         1    0        0  \n",
       "4               0        0        0       0         0    0        0  \n",
       "5               0        0        0       0         1    0        0  \n",
       "\n",
       "[5 rows x 24 columns]"
      ]
     },
     "execution_count": 19,
     "metadata": {},
     "output_type": "execute_result"
    }
   ],
   "source": [
    "items.head()"
   ]
  },
  {
   "cell_type": "markdown",
   "metadata": {
    "id": "lkhrr5u0lVl_"
   },
   "source": [
    "## Visualice la distribución de ratings, ¿Qué puede decir al respecto?"
   ]
  },
  {
   "cell_type": "code",
   "execution_count": 20,
   "metadata": {
    "colab": {
     "base_uri": "https://localhost:8080/",
     "height": 296
    },
    "id": "CrVPRhE_ZkvM",
    "outputId": "ebf31edd-0ba1-481c-8f1e-004ddf015ffc"
   },
   "outputs": [
    {
     "data": {
      "text/plain": [
       "<AxesSubplot:xlabel='count', ylabel='rating'>"
      ]
     },
     "execution_count": 20,
     "metadata": {},
     "output_type": "execute_result"
    },
    {
     "data": {
      "image/png": "[encoded data removed]",
      "text/plain": [
       "<Figure size 432x288 with 1 Axes>"
      ]
     },
     "metadata": {
      "needs_background": "light"
     },
     "output_type": "display_data"
    }
   ],
   "source": [
    "sns.countplot(y='rating', data=ratings)\n",
    "#ratings.describe()"
   ]
  },
  {
   "cell_type": "markdown",
   "metadata": {
    "id": "6fm6Ty2GnX3A"
   },
   "source": [
    "La peliculas tienen unn buen nivel de aceptacion.\n",
    "Hay una mayor distrubicuon hacia los ratings altos.\n"
   ]
  },
  {
   "cell_type": "markdown",
   "metadata": {
    "id": "Rvyd2GmRnegf"
   },
   "source": [
    "## En la siguiente celda se esta calculando el número de ratings por usuario y  el promedio de sus calificaciones, el dataframe esta ordenado por el número de calificaciones"
   ]
  },
  {
   "cell_type": "code",
   "execution_count": 24,
   "metadata": {
    "colab": {
     "base_uri": "https://localhost:8080/",
     "height": 450
    },
    "id": "JapJ5D8Sg8ZZ",
    "outputId": "148ae92e-84af-4913-b6bc-74c771093c13"
   },
   "outputs": [
    {
     "data": {
      "text/html": [
       "<div>\n",
       "<style scoped>\n",
       "    .dataframe tbody tr th:only-of-type {\n",
       "        vertical-align: middle;\n",
       "    }\n",
       "\n",
       "    .dataframe tbody tr th {\n",
       "        vertical-align: top;\n",
       "    }\n",
       "\n",
       "    .dataframe thead th {\n",
       "        text-align: right;\n",
       "    }\n",
       "</style>\n",
       "<table border=\"1\" class=\"dataframe\">\n",
       "  <thead>\n",
       "    <tr style=\"text-align: right;\">\n",
       "      <th></th>\n",
       "      <th>count</th>\n",
       "      <th>mean</th>\n",
       "    </tr>\n",
       "    <tr>\n",
       "      <th>user_id</th>\n",
       "      <th></th>\n",
       "      <th></th>\n",
       "    </tr>\n",
       "  </thead>\n",
       "  <tbody>\n",
       "    <tr>\n",
       "      <th>405</th>\n",
       "      <td>737</td>\n",
       "      <td>1.834464</td>\n",
       "    </tr>\n",
       "    <tr>\n",
       "      <th>655</th>\n",
       "      <td>685</td>\n",
       "      <td>2.908029</td>\n",
       "    </tr>\n",
       "    <tr>\n",
       "      <th>13</th>\n",
       "      <td>636</td>\n",
       "      <td>3.097484</td>\n",
       "    </tr>\n",
       "    <tr>\n",
       "      <th>450</th>\n",
       "      <td>540</td>\n",
       "      <td>3.864815</td>\n",
       "    </tr>\n",
       "    <tr>\n",
       "      <th>276</th>\n",
       "      <td>518</td>\n",
       "      <td>3.465251</td>\n",
       "    </tr>\n",
       "    <tr>\n",
       "      <th>...</th>\n",
       "      <td>...</td>\n",
       "      <td>...</td>\n",
       "    </tr>\n",
       "    <tr>\n",
       "      <th>685</th>\n",
       "      <td>20</td>\n",
       "      <td>2.050000</td>\n",
       "    </tr>\n",
       "    <tr>\n",
       "      <th>475</th>\n",
       "      <td>20</td>\n",
       "      <td>3.600000</td>\n",
       "    </tr>\n",
       "    <tr>\n",
       "      <th>36</th>\n",
       "      <td>20</td>\n",
       "      <td>3.800000</td>\n",
       "    </tr>\n",
       "    <tr>\n",
       "      <th>732</th>\n",
       "      <td>20</td>\n",
       "      <td>3.700000</td>\n",
       "    </tr>\n",
       "    <tr>\n",
       "      <th>596</th>\n",
       "      <td>20</td>\n",
       "      <td>3.600000</td>\n",
       "    </tr>\n",
       "  </tbody>\n",
       "</table>\n",
       "<p>943 rows × 2 columns</p>\n",
       "</div>"
      ],
      "text/plain": [
       "         count      mean\n",
       "user_id                 \n",
       "405        737  1.834464\n",
       "655        685  2.908029\n",
       "13         636  3.097484\n",
       "450        540  3.864815\n",
       "276        518  3.465251\n",
       "...        ...       ...\n",
       "685         20  2.050000\n",
       "475         20  3.600000\n",
       "36          20  3.800000\n",
       "732         20  3.700000\n",
       "596         20  3.600000\n",
       "\n",
       "[943 rows x 2 columns]"
      ]
     },
     "execution_count": 24,
     "metadata": {},
     "output_type": "execute_result"
    }
   ],
   "source": [
    "ratings.groupby('user_id')['rating'].agg({'count','mean'}).sort_values(by='count', ascending=False)"
   ]
  },
  {
   "cell_type": "markdown",
   "metadata": {
    "id": "IOH5jtpUokKn"
   },
   "source": [
    "##Utilice las siguientes celdas para encontrar respuesta a las siguientes preguntas\n",
    "\n",
    "¿Cómo es la distribución del número de ratings por usuario?\n",
    "\n",
    "¿Cómo es la distribución del promedio de calificación por usuario?\n"
   ]
  },
  {
   "cell_type": "code",
   "execution_count": 25,
   "metadata": {
    "colab": {
     "base_uri": "https://localhost:8080/",
     "height": 386
    },
    "id": "9PA43szmpTiQ",
    "outputId": "4092f87a-cd54-40ef-a043-5cf6f929d332"
   },
   "outputs": [
    {
     "data": {
      "text/plain": [
       "<seaborn.axisgrid.FacetGrid at 0x2a4ad8ddac0>"
      ]
     },
     "execution_count": 25,
     "metadata": {},
     "output_type": "execute_result"
    },
    {
     "data": {
      "image/png": "[encoded data removed]",
      "text/plain": [
       "<Figure size 360x360 with 1 Axes>"
      ]
     },
     "metadata": {
      "needs_background": "light"
     },
     "output_type": "display_data"
    }
   ],
   "source": [
    "df_rating_agrupada=ratings.groupby('user_id')['rating'].agg({'count','mean'}).sort_values(by='count', ascending=False)\n",
    "g = sns.displot(data=df_rating_agrupada, x='count')\n",
    "g.set_axis_labels(\"Numbers of ratings\",\"Number of users\")"
   ]
  },
  {
   "cell_type": "code",
   "execution_count": 26,
   "metadata": {
    "colab": {
     "base_uri": "https://localhost:8080/",
     "height": 386
    },
    "id": "O2UkypiRpTLA",
    "outputId": "582ad6b0-201e-4aae-8f73-9a0c17335453"
   },
   "outputs": [
    {
     "data": {
      "text/plain": [
       "<seaborn.axisgrid.FacetGrid at 0x2a4add369d0>"
      ]
     },
     "execution_count": 26,
     "metadata": {},
     "output_type": "execute_result"
    },
    {
     "data": {
      "image/png": "[encoded data removed]",
      "text/plain": [
       "<Figure size 360x360 with 1 Axes>"
      ]
     },
     "metadata": {
      "needs_background": "light"
     },
     "output_type": "display_data"
    }
   ],
   "source": [
    "\n",
    "g_dos = sns.displot(data=df_rating_agrupada, x='mean')\n",
    "g_dos.set_axis_labels(\"Mean of rating\",\"Numbers of users\")\n"
   ]
  },
  {
   "cell_type": "markdown",
   "metadata": {
    "id": "Sb2m2qv9sqZt"
   },
   "source": [
    "##En la siguiente celda se esta calculando el número de ratings por items, el promedio de sus calificaciones y la varianza de sus calificaciones. "
   ]
  },
  {
   "cell_type": "code",
   "execution_count": 27,
   "metadata": {
    "colab": {
     "base_uri": "https://localhost:8080/",
     "height": 450
    },
    "id": "xXZw4Iy2aARs",
    "outputId": "9cb5a832-9780-4123-b325-826ea715e390"
   },
   "outputs": [
    {
     "data": {
      "text/html": [
       "<div>\n",
       "<style scoped>\n",
       "    .dataframe tbody tr th:only-of-type {\n",
       "        vertical-align: middle;\n",
       "    }\n",
       "\n",
       "    .dataframe tbody tr th {\n",
       "        vertical-align: top;\n",
       "    }\n",
       "\n",
       "    .dataframe thead th {\n",
       "        text-align: right;\n",
       "    }\n",
       "</style>\n",
       "<table border=\"1\" class=\"dataframe\">\n",
       "  <thead>\n",
       "    <tr style=\"text-align: right;\">\n",
       "      <th></th>\n",
       "      <th>count</th>\n",
       "      <th>mean</th>\n",
       "      <th>var</th>\n",
       "      <th>movie title</th>\n",
       "    </tr>\n",
       "    <tr>\n",
       "      <th>item_id</th>\n",
       "      <th></th>\n",
       "      <th></th>\n",
       "      <th></th>\n",
       "      <th></th>\n",
       "    </tr>\n",
       "  </thead>\n",
       "  <tbody>\n",
       "    <tr>\n",
       "      <th>1</th>\n",
       "      <td>452</td>\n",
       "      <td>3.878319</td>\n",
       "      <td>0.860992</td>\n",
       "      <td>Toy Story (1995)</td>\n",
       "    </tr>\n",
       "    <tr>\n",
       "      <th>2</th>\n",
       "      <td>131</td>\n",
       "      <td>3.206107</td>\n",
       "      <td>0.934116</td>\n",
       "      <td>GoldenEye (1995)</td>\n",
       "    </tr>\n",
       "    <tr>\n",
       "      <th>3</th>\n",
       "      <td>90</td>\n",
       "      <td>3.033333</td>\n",
       "      <td>1.470787</td>\n",
       "      <td>Four Rooms (1995)</td>\n",
       "    </tr>\n",
       "    <tr>\n",
       "      <th>4</th>\n",
       "      <td>209</td>\n",
       "      <td>3.550239</td>\n",
       "      <td>0.931358</td>\n",
       "      <td>Get Shorty (1995)</td>\n",
       "    </tr>\n",
       "    <tr>\n",
       "      <th>5</th>\n",
       "      <td>86</td>\n",
       "      <td>3.302326</td>\n",
       "      <td>0.895759</td>\n",
       "      <td>Copycat (1995)</td>\n",
       "    </tr>\n",
       "    <tr>\n",
       "      <th>...</th>\n",
       "      <td>...</td>\n",
       "      <td>...</td>\n",
       "      <td>...</td>\n",
       "      <td>...</td>\n",
       "    </tr>\n",
       "    <tr>\n",
       "      <th>1678</th>\n",
       "      <td>1</td>\n",
       "      <td>1.000000</td>\n",
       "      <td>NaN</td>\n",
       "      <td>Mat' i syn (1997)</td>\n",
       "    </tr>\n",
       "    <tr>\n",
       "      <th>1679</th>\n",
       "      <td>1</td>\n",
       "      <td>3.000000</td>\n",
       "      <td>NaN</td>\n",
       "      <td>B. Monkey (1998)</td>\n",
       "    </tr>\n",
       "    <tr>\n",
       "      <th>1680</th>\n",
       "      <td>1</td>\n",
       "      <td>2.000000</td>\n",
       "      <td>NaN</td>\n",
       "      <td>Sliding Doors (1998)</td>\n",
       "    </tr>\n",
       "    <tr>\n",
       "      <th>1681</th>\n",
       "      <td>1</td>\n",
       "      <td>3.000000</td>\n",
       "      <td>NaN</td>\n",
       "      <td>You So Crazy (1994)</td>\n",
       "    </tr>\n",
       "    <tr>\n",
       "      <th>1682</th>\n",
       "      <td>1</td>\n",
       "      <td>3.000000</td>\n",
       "      <td>NaN</td>\n",
       "      <td>Scream of Stone (Schrei aus Stein) (1991)</td>\n",
       "    </tr>\n",
       "  </tbody>\n",
       "</table>\n",
       "<p>1682 rows × 4 columns</p>\n",
       "</div>"
      ],
      "text/plain": [
       "         count      mean       var                                movie title\n",
       "item_id                                                                      \n",
       "1          452  3.878319  0.860992                           Toy Story (1995)\n",
       "2          131  3.206107  0.934116                           GoldenEye (1995)\n",
       "3           90  3.033333  1.470787                          Four Rooms (1995)\n",
       "4          209  3.550239  0.931358                          Get Shorty (1995)\n",
       "5           86  3.302326  0.895759                             Copycat (1995)\n",
       "...        ...       ...       ...                                        ...\n",
       "1678         1  1.000000       NaN                          Mat' i syn (1997)\n",
       "1679         1  3.000000       NaN                           B. Monkey (1998)\n",
       "1680         1  2.000000       NaN                       Sliding Doors (1998)\n",
       "1681         1  3.000000       NaN                        You So Crazy (1994)\n",
       "1682         1  3.000000       NaN  Scream of Stone (Schrei aus Stein) (1991)\n",
       "\n",
       "[1682 rows x 4 columns]"
      ]
     },
     "execution_count": 27,
     "metadata": {},
     "output_type": "execute_result"
    }
   ],
   "source": [
    "df_items = ratings.groupby('item_id')['rating'].agg({'count','mean','var'}).join(items['movie title'], how='left')\n",
    "df_items"
   ]
  },
  {
   "cell_type": "markdown",
   "metadata": {
    "id": "mLsd_rohxMhc"
   },
   "source": [
    "##Utilice las siguientes celdas para encontrar la respuesta a las siguientes preguntas\n",
    "\n",
    "¿Cuáles son los items con más calificaciones?  \n",
    "\n",
    "¿Se puede observar el fenomeno de cola larga en este dataset?, evidencielo por medio de un gráfico\n",
    "\n",
    "\n"
   ]
  },
  {
   "cell_type": "code",
   "execution_count": 28,
   "metadata": {
    "colab": {
     "base_uri": "https://localhost:8080/",
     "height": 390
    },
    "id": "TP264UnaCzm5",
    "outputId": "4a567f22-e157-4b71-d63b-0a5d808952f1"
   },
   "outputs": [
    {
     "data": {
      "text/html": [
       "<div>\n",
       "<style scoped>\n",
       "    .dataframe tbody tr th:only-of-type {\n",
       "        vertical-align: middle;\n",
       "    }\n",
       "\n",
       "    .dataframe tbody tr th {\n",
       "        vertical-align: top;\n",
       "    }\n",
       "\n",
       "    .dataframe thead th {\n",
       "        text-align: right;\n",
       "    }\n",
       "</style>\n",
       "<table border=\"1\" class=\"dataframe\">\n",
       "  <thead>\n",
       "    <tr style=\"text-align: right;\">\n",
       "      <th></th>\n",
       "      <th>count</th>\n",
       "      <th>mean</th>\n",
       "      <th>var</th>\n",
       "      <th>movie title</th>\n",
       "    </tr>\n",
       "    <tr>\n",
       "      <th>item_id</th>\n",
       "      <th></th>\n",
       "      <th></th>\n",
       "      <th></th>\n",
       "      <th></th>\n",
       "    </tr>\n",
       "  </thead>\n",
       "  <tbody>\n",
       "    <tr>\n",
       "      <th>50</th>\n",
       "      <td>583</td>\n",
       "      <td>4.358491</td>\n",
       "      <td>0.776762</td>\n",
       "      <td>Star Wars (1977)</td>\n",
       "    </tr>\n",
       "    <tr>\n",
       "      <th>258</th>\n",
       "      <td>509</td>\n",
       "      <td>3.803536</td>\n",
       "      <td>0.988885</td>\n",
       "      <td>Contact (1997)</td>\n",
       "    </tr>\n",
       "    <tr>\n",
       "      <th>100</th>\n",
       "      <td>508</td>\n",
       "      <td>4.155512</td>\n",
       "      <td>0.952100</td>\n",
       "      <td>Fargo (1996)</td>\n",
       "    </tr>\n",
       "    <tr>\n",
       "      <th>181</th>\n",
       "      <td>507</td>\n",
       "      <td>4.007890</td>\n",
       "      <td>0.853693</td>\n",
       "      <td>Return of the Jedi (1983)</td>\n",
       "    </tr>\n",
       "    <tr>\n",
       "      <th>294</th>\n",
       "      <td>485</td>\n",
       "      <td>3.156701</td>\n",
       "      <td>1.206799</td>\n",
       "      <td>Liar Liar (1997)</td>\n",
       "    </tr>\n",
       "    <tr>\n",
       "      <th>286</th>\n",
       "      <td>481</td>\n",
       "      <td>3.656965</td>\n",
       "      <td>1.367498</td>\n",
       "      <td>English Patient, The (1996)</td>\n",
       "    </tr>\n",
       "    <tr>\n",
       "      <th>288</th>\n",
       "      <td>478</td>\n",
       "      <td>3.441423</td>\n",
       "      <td>1.240796</td>\n",
       "      <td>Scream (1996)</td>\n",
       "    </tr>\n",
       "    <tr>\n",
       "      <th>1</th>\n",
       "      <td>452</td>\n",
       "      <td>3.878319</td>\n",
       "      <td>0.860992</td>\n",
       "      <td>Toy Story (1995)</td>\n",
       "    </tr>\n",
       "    <tr>\n",
       "      <th>300</th>\n",
       "      <td>431</td>\n",
       "      <td>3.631090</td>\n",
       "      <td>0.996147</td>\n",
       "      <td>Air Force One (1997)</td>\n",
       "    </tr>\n",
       "    <tr>\n",
       "      <th>121</th>\n",
       "      <td>429</td>\n",
       "      <td>3.438228</td>\n",
       "      <td>1.246759</td>\n",
       "      <td>Independence Day (ID4) (1996)</td>\n",
       "    </tr>\n",
       "  </tbody>\n",
       "</table>\n",
       "</div>"
      ],
      "text/plain": [
       "         count      mean       var                    movie title\n",
       "item_id                                                          \n",
       "50         583  4.358491  0.776762               Star Wars (1977)\n",
       "258        509  3.803536  0.988885                 Contact (1997)\n",
       "100        508  4.155512  0.952100                   Fargo (1996)\n",
       "181        507  4.007890  0.853693      Return of the Jedi (1983)\n",
       "294        485  3.156701  1.206799               Liar Liar (1997)\n",
       "286        481  3.656965  1.367498    English Patient, The (1996)\n",
       "288        478  3.441423  1.240796                  Scream (1996)\n",
       "1          452  3.878319  0.860992               Toy Story (1995)\n",
       "300        431  3.631090  0.996147           Air Force One (1997)\n",
       "121        429  3.438228  1.246759  Independence Day (ID4) (1996)"
      ]
     },
     "execution_count": 28,
     "metadata": {},
     "output_type": "execute_result"
    }
   ],
   "source": [
    "df_items_sort = df_items.nlargest(10,'count')\n",
    "df_items_sort"
   ]
  },
  {
   "cell_type": "code",
   "execution_count": 29,
   "metadata": {
    "colab": {
     "base_uri": "https://localhost:8080/",
     "height": 235
    },
    "id": "HMAgCCejCza5",
    "outputId": "448bb748-17a9-4153-ce76-94ede707d621"
   },
   "outputs": [
    {
     "data": {
      "text/plain": [
       "<AxesSubplot:xlabel='item_id'>"
      ]
     },
     "execution_count": 29,
     "metadata": {},
     "output_type": "execute_result"
    },
    {
     "data": {
      "image/png": "[encoded data removed]",
      "text/plain": [
       "<Figure size 1440x288 with 1 Axes>"
      ]
     },
     "metadata": {
      "needs_background": "light"
     },
     "output_type": "display_data"
    }
   ],
   "source": [
    "df_items = df_items.sort_values('count',ascending=False)\n",
    "df_items['count'].plot(kind='bar', xticks=[], figsize=(20,4))"
   ]
  },
  {
   "cell_type": "markdown",
   "metadata": {
    "id": "kG9eggK7cQIc"
   },
   "source": [
    "## Creación de listas de recomendación no personalizadas\n",
    "\n",
    "Genere inicialmente una lista de recomendación de tamaño 10 no personalizada con los items con mejor promedio, en teoría estos serían los mejores items del dataset y una buena lista inicial con los elementos más aclamados por los usuarios del sistema\n",
    "\n",
    "¿Qué problemas tiene generar una lista no personalizada solamente con el promedio?\n",
    "\n",
    "¿Es posible generar una mejor lista de recomendación teniendo en cuenta que tanto el número de ratings del item como su promedio? \n",
    "\n",
    "Cree una lista top 10 con los mejores items globales siguiendo la estrategia seleccionada\n",
    "\n",
    "Ver: \n",
    "\n",
    "http://www.evanmiller.org/how-not-to-sort-by-average-rating.html\n",
    "\n",
    "https://es.wikipedia.org/wiki/Intervalo_de_confianza\n"
   ]
  },
  {
   "cell_type": "code",
   "execution_count": 30,
   "metadata": {
    "colab": {
     "base_uri": "https://localhost:8080/",
     "height": 390
    },
    "id": "4XMG1LkAdXAv",
    "outputId": "a6115ed3-fd30-474f-c54e-c6fe33e73f2b"
   },
   "outputs": [
    {
     "data": {
      "text/html": [
       "<div>\n",
       "<style scoped>\n",
       "    .dataframe tbody tr th:only-of-type {\n",
       "        vertical-align: middle;\n",
       "    }\n",
       "\n",
       "    .dataframe tbody tr th {\n",
       "        vertical-align: top;\n",
       "    }\n",
       "\n",
       "    .dataframe thead th {\n",
       "        text-align: right;\n",
       "    }\n",
       "</style>\n",
       "<table border=\"1\" class=\"dataframe\">\n",
       "  <thead>\n",
       "    <tr style=\"text-align: right;\">\n",
       "      <th></th>\n",
       "      <th>count</th>\n",
       "      <th>mean</th>\n",
       "      <th>var</th>\n",
       "      <th>movie title</th>\n",
       "    </tr>\n",
       "    <tr>\n",
       "      <th>item_id</th>\n",
       "      <th></th>\n",
       "      <th></th>\n",
       "      <th></th>\n",
       "      <th></th>\n",
       "    </tr>\n",
       "  </thead>\n",
       "  <tbody>\n",
       "    <tr>\n",
       "      <th>1293</th>\n",
       "      <td>3</td>\n",
       "      <td>5.0</td>\n",
       "      <td>0.0</td>\n",
       "      <td>Star Kid (1997)</td>\n",
       "    </tr>\n",
       "    <tr>\n",
       "      <th>1189</th>\n",
       "      <td>3</td>\n",
       "      <td>5.0</td>\n",
       "      <td>0.0</td>\n",
       "      <td>Prefontaine (1997)</td>\n",
       "    </tr>\n",
       "    <tr>\n",
       "      <th>1500</th>\n",
       "      <td>2</td>\n",
       "      <td>5.0</td>\n",
       "      <td>0.0</td>\n",
       "      <td>Santa with Muscles (1996)</td>\n",
       "    </tr>\n",
       "    <tr>\n",
       "      <th>1467</th>\n",
       "      <td>2</td>\n",
       "      <td>5.0</td>\n",
       "      <td>0.0</td>\n",
       "      <td>Saint of Fort Washington, The (1993)</td>\n",
       "    </tr>\n",
       "    <tr>\n",
       "      <th>1201</th>\n",
       "      <td>1</td>\n",
       "      <td>5.0</td>\n",
       "      <td>NaN</td>\n",
       "      <td>Marlene Dietrich: Shadow and Light (1996)</td>\n",
       "    </tr>\n",
       "    <tr>\n",
       "      <th>814</th>\n",
       "      <td>1</td>\n",
       "      <td>5.0</td>\n",
       "      <td>NaN</td>\n",
       "      <td>Great Day in Harlem, A (1994)</td>\n",
       "    </tr>\n",
       "    <tr>\n",
       "      <th>1653</th>\n",
       "      <td>1</td>\n",
       "      <td>5.0</td>\n",
       "      <td>NaN</td>\n",
       "      <td>Entertaining Angels: The Dorothy Day Story (1996)</td>\n",
       "    </tr>\n",
       "    <tr>\n",
       "      <th>1122</th>\n",
       "      <td>1</td>\n",
       "      <td>5.0</td>\n",
       "      <td>NaN</td>\n",
       "      <td>They Made Me a Criminal (1939)</td>\n",
       "    </tr>\n",
       "    <tr>\n",
       "      <th>1536</th>\n",
       "      <td>1</td>\n",
       "      <td>5.0</td>\n",
       "      <td>NaN</td>\n",
       "      <td>Aiqing wansui (1994)</td>\n",
       "    </tr>\n",
       "    <tr>\n",
       "      <th>1599</th>\n",
       "      <td>1</td>\n",
       "      <td>5.0</td>\n",
       "      <td>NaN</td>\n",
       "      <td>Someone Else's America (1995)</td>\n",
       "    </tr>\n",
       "  </tbody>\n",
       "</table>\n",
       "</div>"
      ],
      "text/plain": [
       "         count  mean  var                                        movie title\n",
       "item_id                                                                     \n",
       "1293         3   5.0  0.0                                    Star Kid (1997)\n",
       "1189         3   5.0  0.0                                 Prefontaine (1997)\n",
       "1500         2   5.0  0.0                          Santa with Muscles (1996)\n",
       "1467         2   5.0  0.0               Saint of Fort Washington, The (1993)\n",
       "1201         1   5.0  NaN         Marlene Dietrich: Shadow and Light (1996) \n",
       "814          1   5.0  NaN                      Great Day in Harlem, A (1994)\n",
       "1653         1   5.0  NaN  Entertaining Angels: The Dorothy Day Story (1996)\n",
       "1122         1   5.0  NaN                     They Made Me a Criminal (1939)\n",
       "1536         1   5.0  NaN                               Aiqing wansui (1994)\n",
       "1599         1   5.0  NaN                      Someone Else's America (1995)"
      ]
     },
     "execution_count": 30,
     "metadata": {},
     "output_type": "execute_result"
    }
   ],
   "source": [
    "df_items.nlargest(10,'mean')"
   ]
  },
  {
   "cell_type": "code",
   "execution_count": 31,
   "metadata": {},
   "outputs": [
    {
     "data": {
      "text/html": [
       "<div>\n",
       "<style scoped>\n",
       "    .dataframe tbody tr th:only-of-type {\n",
       "        vertical-align: middle;\n",
       "    }\n",
       "\n",
       "    .dataframe tbody tr th {\n",
       "        vertical-align: top;\n",
       "    }\n",
       "\n",
       "    .dataframe thead th {\n",
       "        text-align: right;\n",
       "    }\n",
       "</style>\n",
       "<table border=\"1\" class=\"dataframe\">\n",
       "  <thead>\n",
       "    <tr style=\"text-align: right;\">\n",
       "      <th></th>\n",
       "      <th>count</th>\n",
       "      <th>mean</th>\n",
       "      <th>var</th>\n",
       "      <th>movie title</th>\n",
       "      <th>peso</th>\n",
       "      <th>score</th>\n",
       "    </tr>\n",
       "    <tr>\n",
       "      <th>item_id</th>\n",
       "      <th></th>\n",
       "      <th></th>\n",
       "      <th></th>\n",
       "      <th></th>\n",
       "      <th></th>\n",
       "      <th></th>\n",
       "    </tr>\n",
       "  </thead>\n",
       "  <tbody>\n",
       "    <tr>\n",
       "      <th>50</th>\n",
       "      <td>583</td>\n",
       "      <td>4.358491</td>\n",
       "      <td>0.776762</td>\n",
       "      <td>Star Wars (1977)</td>\n",
       "      <td>0.346611</td>\n",
       "      <td>1.510702</td>\n",
       "    </tr>\n",
       "    <tr>\n",
       "      <th>100</th>\n",
       "      <td>508</td>\n",
       "      <td>4.155512</td>\n",
       "      <td>0.952100</td>\n",
       "      <td>Fargo (1996)</td>\n",
       "      <td>0.302021</td>\n",
       "      <td>1.255054</td>\n",
       "    </tr>\n",
       "    <tr>\n",
       "      <th>181</th>\n",
       "      <td>507</td>\n",
       "      <td>4.007890</td>\n",
       "      <td>0.853693</td>\n",
       "      <td>Return of the Jedi (1983)</td>\n",
       "      <td>0.301427</td>\n",
       "      <td>1.208086</td>\n",
       "    </tr>\n",
       "    <tr>\n",
       "      <th>258</th>\n",
       "      <td>509</td>\n",
       "      <td>3.803536</td>\n",
       "      <td>0.988885</td>\n",
       "      <td>Contact (1997)</td>\n",
       "      <td>0.302616</td>\n",
       "      <td>1.151011</td>\n",
       "    </tr>\n",
       "    <tr>\n",
       "      <th>174</th>\n",
       "      <td>420</td>\n",
       "      <td>4.252381</td>\n",
       "      <td>0.795340</td>\n",
       "      <td>Raiders of the Lost Ark (1981)</td>\n",
       "      <td>0.249703</td>\n",
       "      <td>1.061831</td>\n",
       "    </tr>\n",
       "    <tr>\n",
       "      <th>127</th>\n",
       "      <td>413</td>\n",
       "      <td>4.283293</td>\n",
       "      <td>0.873434</td>\n",
       "      <td>Godfather, The (1972)</td>\n",
       "      <td>0.245541</td>\n",
       "      <td>1.051724</td>\n",
       "    </tr>\n",
       "    <tr>\n",
       "      <th>286</th>\n",
       "      <td>481</td>\n",
       "      <td>3.656965</td>\n",
       "      <td>1.367498</td>\n",
       "      <td>English Patient, The (1996)</td>\n",
       "      <td>0.285969</td>\n",
       "      <td>1.045779</td>\n",
       "    </tr>\n",
       "    <tr>\n",
       "      <th>1</th>\n",
       "      <td>452</td>\n",
       "      <td>3.878319</td>\n",
       "      <td>0.860992</td>\n",
       "      <td>Toy Story (1995)</td>\n",
       "      <td>0.268728</td>\n",
       "      <td>1.042212</td>\n",
       "    </tr>\n",
       "    <tr>\n",
       "      <th>98</th>\n",
       "      <td>390</td>\n",
       "      <td>4.289744</td>\n",
       "      <td>0.699895</td>\n",
       "      <td>Silence of the Lambs, The (1991)</td>\n",
       "      <td>0.231867</td>\n",
       "      <td>0.994649</td>\n",
       "    </tr>\n",
       "    <tr>\n",
       "      <th>288</th>\n",
       "      <td>478</td>\n",
       "      <td>3.441423</td>\n",
       "      <td>1.240796</td>\n",
       "      <td>Scream (1996)</td>\n",
       "      <td>0.284185</td>\n",
       "      <td>0.978002</td>\n",
       "    </tr>\n",
       "  </tbody>\n",
       "</table>\n",
       "</div>"
      ],
      "text/plain": [
       "         count      mean       var                       movie title  \\\n",
       "item_id                                                                \n",
       "50         583  4.358491  0.776762                  Star Wars (1977)   \n",
       "100        508  4.155512  0.952100                      Fargo (1996)   \n",
       "181        507  4.007890  0.853693         Return of the Jedi (1983)   \n",
       "258        509  3.803536  0.988885                    Contact (1997)   \n",
       "174        420  4.252381  0.795340    Raiders of the Lost Ark (1981)   \n",
       "127        413  4.283293  0.873434             Godfather, The (1972)   \n",
       "286        481  3.656965  1.367498       English Patient, The (1996)   \n",
       "1          452  3.878319  0.860992                  Toy Story (1995)   \n",
       "98         390  4.289744  0.699895  Silence of the Lambs, The (1991)   \n",
       "288        478  3.441423  1.240796                     Scream (1996)   \n",
       "\n",
       "             peso     score  \n",
       "item_id                      \n",
       "50       0.346611  1.510702  \n",
       "100      0.302021  1.255054  \n",
       "181      0.301427  1.208086  \n",
       "258      0.302616  1.151011  \n",
       "174      0.249703  1.061831  \n",
       "127      0.245541  1.051724  \n",
       "286      0.285969  1.045779  \n",
       "1        0.268728  1.042212  \n",
       "98       0.231867  0.994649  \n",
       "288      0.284185  0.978002  "
      ]
     },
     "execution_count": 31,
     "metadata": {},
     "output_type": "execute_result"
    }
   ],
   "source": [
    "#se calcula un score de acuerdo al numero de ratings y el promedio\n",
    "total=df_items.shape[0]\n",
    "df_items['peso']=df_items['count']/total\n",
    "df_items['score']=df_items['mean']*df_items['peso']\n",
    "df_items.nlargest(10,'score')"
   ]
  },
  {
   "cell_type": "code",
   "execution_count": 32,
   "metadata": {
    "id": "XWiogp7udWwI"
   },
   "outputs": [],
   "source": [
    "import math\n",
    "import scipy.stats as st\n",
    "\n",
    "def wilson_lower_bound(pos, n, confidence=0.95):\n",
    "    \"\"\"\n",
    "    Function to provide lower bound of wilson score\n",
    "    :param pos: No of positive ratings\n",
    "    :param n: Total number of ratings\n",
    "    :param confidence: Confidence interval, by default is 95 %\n",
    "    :return: Wilson Lower bound score\n",
    "    \"\"\"\n",
    "    if n == 0:\n",
    "        return 0\n",
    "    z = st.norm.ppf(1 - (1 - confidence) / 2)\n",
    "    phat = 1.0 * pos / n\n",
    "    return (phat + z * z / (2 * n) - z * math.sqrt((phat * (1 - phat) + z * z / (4 * n)) / n)) / (1 + z * z / n)"
   ]
  },
  {
   "cell_type": "code",
   "execution_count": 33,
   "metadata": {
    "colab": {
     "base_uri": "https://localhost:8080/",
     "height": 235
    },
    "id": "aprmG7J-_oo7",
    "outputId": "706adfc5-ec88-4984-dd0e-89042d0a3951"
   },
   "outputs": [
    {
     "data": {
      "text/html": [
       "<div>\n",
       "<style scoped>\n",
       "    .dataframe tbody tr th:only-of-type {\n",
       "        vertical-align: middle;\n",
       "    }\n",
       "\n",
       "    .dataframe tbody tr th {\n",
       "        vertical-align: top;\n",
       "    }\n",
       "\n",
       "    .dataframe thead th {\n",
       "        text-align: right;\n",
       "    }\n",
       "</style>\n",
       "<table border=\"1\" class=\"dataframe\">\n",
       "  <thead>\n",
       "    <tr style=\"text-align: right;\">\n",
       "      <th></th>\n",
       "      <th>count</th>\n",
       "      <th>mean</th>\n",
       "      <th>var</th>\n",
       "      <th>movie title</th>\n",
       "      <th>peso</th>\n",
       "      <th>score</th>\n",
       "      <th>positive_count</th>\n",
       "      <th>wilson</th>\n",
       "    </tr>\n",
       "    <tr>\n",
       "      <th>item_id</th>\n",
       "      <th></th>\n",
       "      <th></th>\n",
       "      <th></th>\n",
       "      <th></th>\n",
       "      <th></th>\n",
       "      <th></th>\n",
       "      <th></th>\n",
       "      <th></th>\n",
       "    </tr>\n",
       "  </thead>\n",
       "  <tbody>\n",
       "    <tr>\n",
       "      <th>64</th>\n",
       "      <td>283</td>\n",
       "      <td>4.445230</td>\n",
       "      <td>0.588302</td>\n",
       "      <td>Shawshank Redemption, The (1994)</td>\n",
       "      <td>0.168252</td>\n",
       "      <td>0.747919</td>\n",
       "      <td>255.0</td>\n",
       "      <td>0.860721</td>\n",
       "    </tr>\n",
       "    <tr>\n",
       "      <th>479</th>\n",
       "      <td>179</td>\n",
       "      <td>4.251397</td>\n",
       "      <td>0.470153</td>\n",
       "      <td>Vertigo (1958)</td>\n",
       "      <td>0.106421</td>\n",
       "      <td>0.452438</td>\n",
       "      <td>162.0</td>\n",
       "      <td>0.853180</td>\n",
       "    </tr>\n",
       "    <tr>\n",
       "      <th>318</th>\n",
       "      <td>298</td>\n",
       "      <td>4.466443</td>\n",
       "      <td>0.687422</td>\n",
       "      <td>Schindler's List (1993)</td>\n",
       "      <td>0.177170</td>\n",
       "      <td>0.791320</td>\n",
       "      <td>265.0</td>\n",
       "      <td>0.848561</td>\n",
       "    </tr>\n",
       "    <tr>\n",
       "      <th>98</th>\n",
       "      <td>390</td>\n",
       "      <td>4.289744</td>\n",
       "      <td>0.699895</td>\n",
       "      <td>Silence of the Lambs, The (1991)</td>\n",
       "      <td>0.231867</td>\n",
       "      <td>0.994649</td>\n",
       "      <td>344.0</td>\n",
       "      <td>0.846252</td>\n",
       "    </tr>\n",
       "    <tr>\n",
       "      <th>483</th>\n",
       "      <td>243</td>\n",
       "      <td>4.456790</td>\n",
       "      <td>0.530150</td>\n",
       "      <td>Casablanca (1942)</td>\n",
       "      <td>0.144471</td>\n",
       "      <td>0.643876</td>\n",
       "      <td>216.0</td>\n",
       "      <td>0.843167</td>\n",
       "    </tr>\n",
       "    <tr>\n",
       "      <th>603</th>\n",
       "      <td>209</td>\n",
       "      <td>4.387560</td>\n",
       "      <td>0.507729</td>\n",
       "      <td>Rear Window (1954)</td>\n",
       "      <td>0.124257</td>\n",
       "      <td>0.545184</td>\n",
       "      <td>185.0</td>\n",
       "      <td>0.834824</td>\n",
       "    </tr>\n",
       "    <tr>\n",
       "      <th>427</th>\n",
       "      <td>219</td>\n",
       "      <td>4.292237</td>\n",
       "      <td>0.547233</td>\n",
       "      <td>To Kill a Mockingbird (1962)</td>\n",
       "      <td>0.130202</td>\n",
       "      <td>0.558859</td>\n",
       "      <td>193.0</td>\n",
       "      <td>0.831731</td>\n",
       "    </tr>\n",
       "    <tr>\n",
       "      <th>50</th>\n",
       "      <td>583</td>\n",
       "      <td>4.358491</td>\n",
       "      <td>0.776762</td>\n",
       "      <td>Star Wars (1977)</td>\n",
       "      <td>0.346611</td>\n",
       "      <td>1.510702</td>\n",
       "      <td>501.0</td>\n",
       "      <td>0.828769</td>\n",
       "    </tr>\n",
       "    <tr>\n",
       "      <th>357</th>\n",
       "      <td>264</td>\n",
       "      <td>4.291667</td>\n",
       "      <td>0.709284</td>\n",
       "      <td>One Flew Over the Cuckoo's Nest (1975)</td>\n",
       "      <td>0.156956</td>\n",
       "      <td>0.673603</td>\n",
       "      <td>230.0</td>\n",
       "      <td>0.825421</td>\n",
       "    </tr>\n",
       "    <tr>\n",
       "      <th>12</th>\n",
       "      <td>267</td>\n",
       "      <td>4.385768</td>\n",
       "      <td>0.681451</td>\n",
       "      <td>Usual Suspects, The (1995)</td>\n",
       "      <td>0.158740</td>\n",
       "      <td>0.696195</td>\n",
       "      <td>232.0</td>\n",
       "      <td>0.823149</td>\n",
       "    </tr>\n",
       "  </tbody>\n",
       "</table>\n",
       "</div>"
      ],
      "text/plain": [
       "         count      mean       var                             movie title  \\\n",
       "item_id                                                                      \n",
       "64         283  4.445230  0.588302        Shawshank Redemption, The (1994)   \n",
       "479        179  4.251397  0.470153                          Vertigo (1958)   \n",
       "318        298  4.466443  0.687422                 Schindler's List (1993)   \n",
       "98         390  4.289744  0.699895        Silence of the Lambs, The (1991)   \n",
       "483        243  4.456790  0.530150                       Casablanca (1942)   \n",
       "603        209  4.387560  0.507729                      Rear Window (1954)   \n",
       "427        219  4.292237  0.547233            To Kill a Mockingbird (1962)   \n",
       "50         583  4.358491  0.776762                        Star Wars (1977)   \n",
       "357        264  4.291667  0.709284  One Flew Over the Cuckoo's Nest (1975)   \n",
       "12         267  4.385768  0.681451              Usual Suspects, The (1995)   \n",
       "\n",
       "             peso     score  positive_count    wilson  \n",
       "item_id                                                \n",
       "64       0.168252  0.747919           255.0  0.860721  \n",
       "479      0.106421  0.452438           162.0  0.853180  \n",
       "318      0.177170  0.791320           265.0  0.848561  \n",
       "98       0.231867  0.994649           344.0  0.846252  \n",
       "483      0.144471  0.643876           216.0  0.843167  \n",
       "603      0.124257  0.545184           185.0  0.834824  \n",
       "427      0.130202  0.558859           193.0  0.831731  \n",
       "50       0.346611  1.510702           501.0  0.828769  \n",
       "357      0.156956  0.673603           230.0  0.825421  \n",
       "12       0.158740  0.696195           232.0  0.823149  "
      ]
     },
     "execution_count": 33,
     "metadata": {},
     "output_type": "execute_result"
    }
   ],
   "source": [
    "\"\"\"\n",
    "1. Filtrar los ratings mayores a 3 como positivos. \n",
    "2. Contarlos por item_id.\n",
    "3. Anexar ese conteo de positivos como una columna nueva y guardar en el dataset\n",
    "    df_wilson\n",
    "4. Calcular wilson_lower_bound para cada item y guardarlo en la columna 'wilson'\n",
    "5. Calcular el top 10 con la columna wilson\n",
    "\n",
    "\"\"\"\n",
    "ratings_positivos=ratings[ratings.rating>3]\n",
    "df_ratings_positivos=ratings_positivos.groupby('item_id')['rating'].agg({'count'})\n",
    "df_ratings_positivos.rename(columns={'count':'positive_count'},inplace=True)\n",
    "\n",
    "df_wilson=df_items.join(df_ratings_positivos,how='left')\n",
    "df_wilson['wilson']=df_wilson.apply(lambda x: wilson_lower_bound(x['positive_count'],x['count']),axis=1)\n",
    "df_wilson.nlargest(10,'wilson')"
   ]
  },
  {
   "cell_type": "markdown",
   "metadata": {
    "id": "c7BO4guxySk3"
   },
   "source": [
    "#Creación del dataset de entrenamiento y prueba\n",
    "\n",
    "El próximo paso es cargar los datos a surprise, para esto vamos a inicializar un modelo de datos de surprise con la información de los ratings cargados en el dataframe"
   ]
  },
  {
   "cell_type": "markdown",
   "metadata": {
    "id": "1PE9yuetbxnQ"
   },
   "source": []
  },
  {
   "cell_type": "code",
   "execution_count": 34,
   "metadata": {
    "id": "xzF3iMfVzWiz"
   },
   "outputs": [],
   "source": [
    "reader = Reader( rating_scale = ( 1, 5 ) )\n",
    "#Se crea el dataset a partir del dataframe\n",
    "surprise_dataset = Dataset.load_from_df( ratings[ [ 'user_id', 'item_id', 'rating' ] ], reader )"
   ]
  },
  {
   "cell_type": "markdown",
   "metadata": {
    "id": "aBSHMZu-IaDE"
   },
   "source": [
    "Se divide el dataset en entrenamiento y test. El dataset de entrenamiento será presentado al algoritmo de recomendación y el dataset de test nos servirá para medir qué tan buenas fueron las predicciones del sistema de recomendación. El conjunto de test generado es una lista con los ratings de prueba"
   ]
  },
  {
   "cell_type": "code",
   "execution_count": 35,
   "metadata": {
    "id": "wVCXEv2zHDN7"
   },
   "outputs": [],
   "source": [
    "train_set, test_set=  train_test_split(surprise_dataset, test_size=.2)"
   ]
  },
  {
   "cell_type": "code",
   "execution_count": 36,
   "metadata": {
    "id": "z3NBak6JZWgP"
   },
   "outputs": [
    {
     "data": {
      "text/plain": [
       "80000"
      ]
     },
     "execution_count": 36,
     "metadata": {},
     "output_type": "execute_result"
    }
   ],
   "source": [
    "train_set.n_ratings"
   ]
  },
  {
   "cell_type": "code",
   "execution_count": 37,
   "metadata": {
    "id": "bUyMSnUEdOOT"
   },
   "outputs": [
    {
     "data": {
      "text/plain": [
       "20000"
      ]
     },
     "execution_count": 37,
     "metadata": {},
     "output_type": "execute_result"
    }
   ],
   "source": [
    "len(test_set)"
   ]
  },
  {
   "cell_type": "code",
   "execution_count": 38,
   "metadata": {
    "id": "HDamSIDVZabW"
   },
   "outputs": [
    {
     "data": {
      "text/plain": [
       "(154, 302, 4.0)"
      ]
     },
     "execution_count": 38,
     "metadata": {},
     "output_type": "execute_result"
    }
   ],
   "source": [
    "#Este es el primer elemento del dataset de prueba (usuario 154, pelicula 302, rating 4)\n",
    "test_set[0]"
   ]
  },
  {
   "cell_type": "markdown",
   "metadata": {
    "id": "kOd-SiVhLd_x"
   },
   "source": [
    "## Creación de modelo de filtrado colaborativo basado en similitud con usuarios o items cercanos\n",
    "\n",
    "Surprise cuenta con la implementación de los modelos colaborativos dentro de la clase [KNNBasic](https://surprise.readthedocs.io/en/stable/knn_inspired.html) \n",
    "\n",
    "El modelo recibe los siguientes parámetros: \n",
    "\n",
    "\n",
    "*   k: El máximo número de vecinos con el que se hará la extrapolación\n",
    "*   min_k : El mínimo número de vecinos con el que se extrapolará un rating\n",
    "*   sim_options : Opciones de similitud pasadas como un diccionario de python, aqui se le configura al modelo el tipo de similitud a usar para encontrar los vecinos y si la extrapolación debe hacerse usando usuarios o items similares. Revise el formato y similitudes disponibles en surprise en [este link](https://surprise.readthedocs.io/en/stable/prediction_algorithms.html#similarity-measure-configuration)\n",
    "\n",
    "\n",
    "\n"
   ]
  },
  {
   "cell_type": "code",
   "execution_count": 39,
   "metadata": {
    "id": "s5A8reiHLdXy"
   },
   "outputs": [],
   "source": [
    "# se crea un modelo knnbasic item-item con similitud coseno \n",
    "sim_options = {'name': 'cosine',\n",
    "               'user_based': False  # calcule similitud item-item\n",
    "               }\n",
    "algo = KNNBasic(k=20, min_k=2, sim_options=sim_options)"
   ]
  },
  {
   "cell_type": "code",
   "execution_count": 40,
   "metadata": {
    "id": "_G8gUHeoUzR-"
   },
   "outputs": [
    {
     "name": "stdout",
     "output_type": "stream",
     "text": [
      "Computing the cosine similarity matrix...\n",
      "Done computing similarity matrix.\n"
     ]
    },
    {
     "data": {
      "text/plain": [
       "<surprise.prediction_algorithms.knns.KNNBasic at 0x2a4af06e820>"
      ]
     },
     "execution_count": 40,
     "metadata": {},
     "output_type": "execute_result"
    }
   ],
   "source": [
    "#Se le pasa la matriz de utilidad al algoritmo \n",
    "algo.fit(trainset=train_set)"
   ]
  },
  {
   "cell_type": "markdown",
   "metadata": {
    "id": "4B1_I0LqY6rd"
   },
   "source": [
    "Una vez cargados los ratings al modelo, se puede realizar una predicción para un usuario, en este caso vamos a calcular la predicción que el modelo esta realizando para la primera entrada del dataset de test la predicción para el usuario con id 154 y el item con id 302, que corresponde a la película L.A. Confidential (1997)\n",
    "\n",
    "---\n",
    "\n"
   ]
  },
  {
   "cell_type": "code",
   "execution_count": 41,
   "metadata": {
    "id": "AdwrR8gVFQuD"
   },
   "outputs": [
    {
     "data": {
      "text/plain": [
       "Prediction(uid=154, iid=302, r_ui=None, est=4.249202065377386, details={'actual_k': 20, 'was_impossible': False})"
      ]
     },
     "execution_count": 41,
     "metadata": {},
     "output_type": "execute_result"
    }
   ],
   "source": [
    "#Verifique la propiedad est de la predicción\n",
    "algo.predict(154,302)"
   ]
  },
  {
   "cell_type": "code",
   "execution_count": 42,
   "metadata": {
    "id": "dzK37VDQIRIT"
   },
   "outputs": [
    {
     "data": {
      "text/html": [
       "<div>\n",
       "<style scoped>\n",
       "    .dataframe tbody tr th:only-of-type {\n",
       "        vertical-align: middle;\n",
       "    }\n",
       "\n",
       "    .dataframe tbody tr th {\n",
       "        vertical-align: top;\n",
       "    }\n",
       "\n",
       "    .dataframe thead th {\n",
       "        text-align: right;\n",
       "    }\n",
       "</style>\n",
       "<table border=\"1\" class=\"dataframe\">\n",
       "  <thead>\n",
       "    <tr style=\"text-align: right;\">\n",
       "      <th></th>\n",
       "      <th>movie id</th>\n",
       "      <th>movie title</th>\n",
       "      <th>release date</th>\n",
       "      <th>video release date</th>\n",
       "      <th>IMDb URL</th>\n",
       "      <th>unknown</th>\n",
       "      <th>Action</th>\n",
       "      <th>Adventure</th>\n",
       "      <th>Animation</th>\n",
       "      <th>Children</th>\n",
       "      <th>...</th>\n",
       "      <th>Fantasy</th>\n",
       "      <th>Film-Noir</th>\n",
       "      <th>Horror</th>\n",
       "      <th>Musical</th>\n",
       "      <th>Mystery</th>\n",
       "      <th>Romance</th>\n",
       "      <th>Sci-Fi</th>\n",
       "      <th>Thriller</th>\n",
       "      <th>War</th>\n",
       "      <th>Western</th>\n",
       "    </tr>\n",
       "    <tr>\n",
       "      <th>movie id</th>\n",
       "      <th></th>\n",
       "      <th></th>\n",
       "      <th></th>\n",
       "      <th></th>\n",
       "      <th></th>\n",
       "      <th></th>\n",
       "      <th></th>\n",
       "      <th></th>\n",
       "      <th></th>\n",
       "      <th></th>\n",
       "      <th></th>\n",
       "      <th></th>\n",
       "      <th></th>\n",
       "      <th></th>\n",
       "      <th></th>\n",
       "      <th></th>\n",
       "      <th></th>\n",
       "      <th></th>\n",
       "      <th></th>\n",
       "      <th></th>\n",
       "      <th></th>\n",
       "    </tr>\n",
       "  </thead>\n",
       "  <tbody>\n",
       "    <tr>\n",
       "      <th>302</th>\n",
       "      <td>302</td>\n",
       "      <td>L.A. Confidential (1997)</td>\n",
       "      <td>01-Jan-1997</td>\n",
       "      <td>NaN</td>\n",
       "      <td>http://us.imdb.com/M/title-exact?L%2EA%2E+Conf...</td>\n",
       "      <td>0</td>\n",
       "      <td>0</td>\n",
       "      <td>0</td>\n",
       "      <td>0</td>\n",
       "      <td>0</td>\n",
       "      <td>...</td>\n",
       "      <td>0</td>\n",
       "      <td>1</td>\n",
       "      <td>0</td>\n",
       "      <td>0</td>\n",
       "      <td>1</td>\n",
       "      <td>0</td>\n",
       "      <td>0</td>\n",
       "      <td>1</td>\n",
       "      <td>0</td>\n",
       "      <td>0</td>\n",
       "    </tr>\n",
       "  </tbody>\n",
       "</table>\n",
       "<p>1 rows × 24 columns</p>\n",
       "</div>"
      ],
      "text/plain": [
       "          movie id               movie title release date  video release date  \\\n",
       "movie id                                                                        \n",
       "302            302  L.A. Confidential (1997)  01-Jan-1997                 NaN   \n",
       "\n",
       "                                                  IMDb URL   unknown  Action  \\\n",
       "movie id                                                                       \n",
       "302       http://us.imdb.com/M/title-exact?L%2EA%2E+Conf...        0       0   \n",
       "\n",
       "          Adventure  Animation  Children  ...  Fantasy  Film-Noir  Horror  \\\n",
       "movie id                                  ...                               \n",
       "302               0          0         0  ...        0          1       0   \n",
       "\n",
       "          Musical  Mystery  Romance  Sci-Fi  Thriller  War  Western  \n",
       "movie id                                                             \n",
       "302             0        1        0       0         1    0        0  \n",
       "\n",
       "[1 rows x 24 columns]"
      ]
     },
     "execution_count": 42,
     "metadata": {},
     "output_type": "execute_result"
    }
   ],
   "source": [
    "items[items['movie id']==302]"
   ]
  },
  {
   "cell_type": "markdown",
   "metadata": {
    "id": "75RWLbA2a2BE"
   },
   "source": [
    "Como podemos ver, la predicción (4.24) del modelo no esta alejada de lo que realmente opinó el usuario  (4.0)\n",
    "\n",
    "Para medir la calidad de la predicción para todos los usuarios e items del dataset de prueba, vamos a comparar lo que dice el modelo de predicción vs lo que dice el conjunto de prueba, para esto vamos a usar la métrica [RMSE](https://surprise.readthedocs.io/en/stable/accuracy.html#surprise.accuracy.rmse)\n",
    "\n",
    "Inicialmente calculamos la predicción para todos los elementos del conjunto de test"
   ]
  },
  {
   "cell_type": "code",
   "execution_count": 43,
   "metadata": {
    "id": "xOl2ObNSIk8T"
   },
   "outputs": [],
   "source": [
    "test_predictions=algo.test(test_set)"
   ]
  },
  {
   "cell_type": "code",
   "execution_count": 44,
   "metadata": {
    "id": "kRlvK_f2ZN7t"
   },
   "outputs": [
    {
     "data": {
      "text/plain": [
       "[Prediction(uid=154, iid=302, r_ui=4.0, est=4.249202065377386, details={'actual_k': 20, 'was_impossible': False}),\n",
       " Prediction(uid=896, iid=484, r_ui=4.0, est=2.8976616922320964, details={'actual_k': 20, 'was_impossible': False}),\n",
       " Prediction(uid=230, iid=371, r_ui=4.0, est=4.1968378983432535, details={'actual_k': 20, 'was_impossible': False}),\n",
       " Prediction(uid=234, iid=294, r_ui=3.0, est=3.0978778071364186, details={'actual_k': 20, 'was_impossible': False}),\n",
       " Prediction(uid=25, iid=729, r_ui=4.0, est=4.148885433441103, details={'actual_k': 20, 'was_impossible': False})]"
      ]
     },
     "execution_count": 44,
     "metadata": {},
     "output_type": "execute_result"
    }
   ],
   "source": [
    "#5 primeras predicciones\n",
    "test_predictions[0:5]"
   ]
  },
  {
   "cell_type": "markdown",
   "metadata": {
    "id": "yqgYbxzwe59D"
   },
   "source": [
    "Ahora se mide el RMSE de las predicciones vs el valor del dataset"
   ]
  },
  {
   "cell_type": "code",
   "execution_count": 45,
   "metadata": {
    "id": "RDK_8jlUeyVL"
   },
   "outputs": [
    {
     "name": "stdout",
     "output_type": "stream",
     "text": [
      "RMSE: 1.0453\n"
     ]
    },
    {
     "data": {
      "text/plain": [
       "1.0453343976192102"
      ]
     },
     "execution_count": 45,
     "metadata": {},
     "output_type": "execute_result"
    }
   ],
   "source": [
    "# En promedio, el sistema encuentra ratings que estan una estrella por encima o por debajo del rating del usuario\n",
    "accuracy.rmse( test_predictions, verbose = True )"
   ]
  },
  {
   "cell_type": "markdown",
   "metadata": {
    "id": "Ge8msMcPgFwy"
   },
   "source": [
    "##Utilice las siguientes celdas para encontrar la respuesta a las siguientes preguntas\n",
    "\n",
    "¿Cuál es el RMSE de un modelo usuario-usuario con los mismos parámetros de similitud?\n",
    "\n",
    "¿Cuál es el efecto de cambiar el número de vecinos en la calidad del modelo usuario-usuario ? \n",
    "\n",
    "Pruebe para un número diferente de vecinos (e.j 5, 10, 20, 50, 100)"
   ]
  },
  {
   "cell_type": "code",
   "execution_count": 47,
   "metadata": {
    "id": "0Eb-sHBnfw8b"
   },
   "outputs": [
    {
     "name": "stdout",
     "output_type": "stream",
     "text": [
      "Computing the cosine similarity matrix...\n",
      "Done computing similarity matrix.\n",
      "RMSE: 1.0166\n",
      "resp: 1.0166414414593592\n"
     ]
    }
   ],
   "source": [
    "# se crea un modelo knnbasic item-item con similitud coseno \n",
    "sim_options = {'name': 'cosine',\n",
    "               'user_based': True  # calcule similitud item-item\n",
    "               }\n",
    "algo = KNNBasic(k=20, min_k=2, sim_options=sim_options)\n",
    "algo.fit(trainset=train_set)\n",
    "test_predictions=algo.test(test_set)\n",
    "resp= accuracy.rmse( test_predictions, verbose = True )\n",
    "print ('resp: '+str(resp))\n"
   ]
  },
  {
   "cell_type": "code",
   "execution_count": 48,
   "metadata": {
    "id": "RgE2Oib_gYuK"
   },
   "outputs": [
    {
     "name": "stdout",
     "output_type": "stream",
     "text": [
      "Computing the cosine similarity matrix...\n",
      "Done computing similarity matrix.\n",
      "Computing the cosine similarity matrix...\n",
      "Done computing similarity matrix.\n",
      "Computing the cosine similarity matrix...\n",
      "Done computing similarity matrix.\n",
      "Computing the cosine similarity matrix...\n",
      "Done computing similarity matrix.\n",
      "Computing the cosine similarity matrix...\n",
      "Done computing similarity matrix.\n"
     ]
    }
   ],
   "source": [
    "\n",
    "resultados=[]\n",
    "for i in (5,10,20,50,100):\n",
    "    algo = KNNBasic(k=i, min_k=2, sim_options=sim_options)\n",
    "    algo.fit(trainset=train_set)\n",
    "    test_predictions=algo.test(test_set)\n",
    "    resp= accuracy.rmse( test_predictions, verbose = False )\n",
    "    resultados.append('Para k='+str(i)+' RMSE: '+str(resp))\n"
   ]
  },
  {
   "cell_type": "code",
   "execution_count": 49,
   "metadata": {},
   "outputs": [
    {
     "name": "stdout",
     "output_type": "stream",
     "text": [
      "Para k=5 RMSE: 1.0838620997926653\n",
      "Para k=10 RMSE: 1.0385724992200804\n",
      "Para k=20 RMSE: 1.0166414414593592\n",
      "Para k=50 RMSE: 1.0094939948005999\n",
      "Para k=100 RMSE: 1.0113077032099977\n"
     ]
    }
   ],
   "source": [
    "for i in range(len(resultados)):\n",
    "    print (resultados[i])"
   ]
  },
  {
   "cell_type": "markdown",
   "metadata": {
    "id": "ZqMr2MlbkJch"
   },
   "source": [
    "##Generando listas de predicciones para los usuarios\n",
    "\n",
    "Retomemos nuestro modelo inicial y ajustémolo con todos los ratings disponibles\n",
    "\n",
    "Para generar una lista de recomendación se debe crear un dataset de \"test\" con las entradas faltantes de la matriz utilidad para que el modelo cree las predicciones (terminar de llenar la matriz de utilidad)\n",
    "\n"
   ]
  },
  {
   "cell_type": "code",
   "execution_count": 50,
   "metadata": {
    "id": "y0ZYsiPXktjg"
   },
   "outputs": [
    {
     "name": "stdout",
     "output_type": "stream",
     "text": [
      "Computing the cosine similarity matrix...\n",
      "Done computing similarity matrix.\n"
     ]
    }
   ],
   "source": [
    "#Se crea el dataset para modelo \n",
    "rating_data=surprise_dataset.build_full_trainset()\n",
    "# Se crea dataset de \"prueba\" con las entradas faltantes para generar las predicciones\n",
    "test=rating_data.build_anti_testset()\n",
    "\n",
    "# se crea el mismo modelo que el del ejemplo\n",
    "sim_options = {'name': 'cosine',\n",
    "               'user_based': False  # calcule similitud item-item\n",
    "               }\n",
    "algo = KNNBasic(k=20, min_k=2, sim_options=sim_options)\n",
    "algo.fit(rating_data)\n",
    "predictions=algo.test(test)"
   ]
  },
  {
   "cell_type": "code",
   "execution_count": 51,
   "metadata": {
    "id": "eH2O_3iFsR6e"
   },
   "outputs": [
    {
     "data": {
      "text/plain": [
       "[Prediction(uid=196, iid=302, r_ui=3.52986, est=3.4998074068929244, details={'actual_k': 20, 'was_impossible': False}),\n",
       " Prediction(uid=196, iid=377, r_ui=3.52986, est=3.531852919263047, details={'actual_k': 20, 'was_impossible': False}),\n",
       " Prediction(uid=196, iid=51, r_ui=3.52986, est=3.59549677885145, details={'actual_k': 20, 'was_impossible': False}),\n",
       " Prediction(uid=196, iid=346, r_ui=3.52986, est=3.5471070543165877, details={'actual_k': 20, 'was_impossible': False}),\n",
       " Prediction(uid=196, iid=474, r_ui=3.52986, est=3.7990088769026116, details={'actual_k': 20, 'was_impossible': False}),\n",
       " Prediction(uid=196, iid=265, r_ui=3.52986, est=3.4464297466659812, details={'actual_k': 20, 'was_impossible': False}),\n",
       " Prediction(uid=196, iid=465, r_ui=3.52986, est=3.5022156502733557, details={'actual_k': 20, 'was_impossible': False}),\n",
       " Prediction(uid=196, iid=451, r_ui=3.52986, est=3.6948301041629965, details={'actual_k': 20, 'was_impossible': False}),\n",
       " Prediction(uid=196, iid=86, r_ui=3.52986, est=3.750152492406962, details={'actual_k': 20, 'was_impossible': False}),\n",
       " Prediction(uid=196, iid=1014, r_ui=3.52986, est=3.345072753258412, details={'actual_k': 20, 'was_impossible': False})]"
      ]
     },
     "execution_count": 51,
     "metadata": {},
     "output_type": "execute_result"
    }
   ],
   "source": [
    "#10 primeras predicciones\n",
    "predictions[0:10]"
   ]
  },
  {
   "cell_type": "code",
   "execution_count": 52,
   "metadata": {
    "id": "Bd8lOnRXpPBm"
   },
   "outputs": [],
   "source": [
    "#Predicciones para usuario 196\n",
    "user_predictions=list(filter(lambda x: x[0]==196,predictions))"
   ]
  },
  {
   "cell_type": "code",
   "execution_count": 53,
   "metadata": {
    "id": "NIQAuEo4rHA2"
   },
   "outputs": [],
   "source": [
    "#Ordenamos de mayor a menor estimación de relevancia\n",
    "user_predictions.sort(key=lambda x : x.est, reverse=True)"
   ]
  },
  {
   "cell_type": "code",
   "execution_count": 54,
   "metadata": {
    "id": "GmcwrOJ-sy9G"
   },
   "outputs": [],
   "source": [
    "#tomamos las 10 primeras predicciones\n",
    "user_predictions=user_predictions[0:10]"
   ]
  },
  {
   "cell_type": "code",
   "execution_count": 55,
   "metadata": {
    "id": "FFaVRp3dtBZF"
   },
   "outputs": [
    {
     "data": {
      "text/plain": [
       "[Prediction(uid=196, iid=1309, r_ui=3.52986, est=4.5, details={'actual_k': 4, 'was_impossible': False}),\n",
       " Prediction(uid=196, iid=1310, r_ui=3.52986, est=4.5, details={'actual_k': 4, 'was_impossible': False}),\n",
       " Prediction(uid=196, iid=1676, r_ui=3.52986, est=4.25, details={'actual_k': 8, 'was_impossible': False}),\n",
       " Prediction(uid=196, iid=1675, r_ui=3.52986, est=4.25, details={'actual_k': 8, 'was_impossible': False}),\n",
       " Prediction(uid=196, iid=1289, r_ui=3.52986, est=4.202435603862276, details={'actual_k': 20, 'was_impossible': False}),\n",
       " Prediction(uid=196, iid=1643, r_ui=3.52986, est=4.097225899300029, details={'actual_k': 20, 'was_impossible': False}),\n",
       " Prediction(uid=196, iid=1593, r_ui=3.52986, est=4.090909090909091, details={'actual_k': 11, 'was_impossible': False}),\n",
       " Prediction(uid=196, iid=935, r_ui=3.52986, est=4.05136705364539, details={'actual_k': 20, 'was_impossible': False}),\n",
       " Prediction(uid=196, iid=1216, r_ui=3.52986, est=4.0506920732628675, details={'actual_k': 20, 'was_impossible': False}),\n",
       " Prediction(uid=196, iid=1312, r_ui=3.52986, est=4.049246841254085, details={'actual_k': 20, 'was_impossible': False})]"
      ]
     },
     "execution_count": 55,
     "metadata": {},
     "output_type": "execute_result"
    }
   ],
   "source": [
    "user_predictions"
   ]
  },
  {
   "cell_type": "code",
   "execution_count": 56,
   "metadata": {
    "id": "7kRPNGHEtcux"
   },
   "outputs": [],
   "source": [
    "#Se convierte a dataframe\n",
    "labels = ['movie id', 'estimation']\n",
    "df_predictions = pd.DataFrame.from_records(list(map(lambda x: (x.iid, x.est) , user_predictions)), columns=labels)"
   ]
  },
  {
   "cell_type": "code",
   "execution_count": 57,
   "metadata": {
    "id": "2jN05Pskz8jN"
   },
   "outputs": [
    {
     "data": {
      "text/html": [
       "<div>\n",
       "<style scoped>\n",
       "    .dataframe tbody tr th:only-of-type {\n",
       "        vertical-align: middle;\n",
       "    }\n",
       "\n",
       "    .dataframe tbody tr th {\n",
       "        vertical-align: top;\n",
       "    }\n",
       "\n",
       "    .dataframe thead th {\n",
       "        text-align: right;\n",
       "    }\n",
       "</style>\n",
       "<table border=\"1\" class=\"dataframe\">\n",
       "  <thead>\n",
       "    <tr style=\"text-align: right;\">\n",
       "      <th></th>\n",
       "      <th>movie id</th>\n",
       "      <th>estimation</th>\n",
       "    </tr>\n",
       "  </thead>\n",
       "  <tbody>\n",
       "    <tr>\n",
       "      <th>0</th>\n",
       "      <td>1309</td>\n",
       "      <td>4.500000</td>\n",
       "    </tr>\n",
       "    <tr>\n",
       "      <th>1</th>\n",
       "      <td>1310</td>\n",
       "      <td>4.500000</td>\n",
       "    </tr>\n",
       "    <tr>\n",
       "      <th>2</th>\n",
       "      <td>1676</td>\n",
       "      <td>4.250000</td>\n",
       "    </tr>\n",
       "    <tr>\n",
       "      <th>3</th>\n",
       "      <td>1675</td>\n",
       "      <td>4.250000</td>\n",
       "    </tr>\n",
       "    <tr>\n",
       "      <th>4</th>\n",
       "      <td>1289</td>\n",
       "      <td>4.202436</td>\n",
       "    </tr>\n",
       "    <tr>\n",
       "      <th>5</th>\n",
       "      <td>1643</td>\n",
       "      <td>4.097226</td>\n",
       "    </tr>\n",
       "    <tr>\n",
       "      <th>6</th>\n",
       "      <td>1593</td>\n",
       "      <td>4.090909</td>\n",
       "    </tr>\n",
       "    <tr>\n",
       "      <th>7</th>\n",
       "      <td>935</td>\n",
       "      <td>4.051367</td>\n",
       "    </tr>\n",
       "    <tr>\n",
       "      <th>8</th>\n",
       "      <td>1216</td>\n",
       "      <td>4.050692</td>\n",
       "    </tr>\n",
       "    <tr>\n",
       "      <th>9</th>\n",
       "      <td>1312</td>\n",
       "      <td>4.049247</td>\n",
       "    </tr>\n",
       "  </tbody>\n",
       "</table>\n",
       "</div>"
      ],
      "text/plain": [
       "   movie id  estimation\n",
       "0      1309    4.500000\n",
       "1      1310    4.500000\n",
       "2      1676    4.250000\n",
       "3      1675    4.250000\n",
       "4      1289    4.202436\n",
       "5      1643    4.097226\n",
       "6      1593    4.090909\n",
       "7       935    4.051367\n",
       "8      1216    4.050692\n",
       "9      1312    4.049247"
      ]
     },
     "execution_count": 57,
     "metadata": {},
     "output_type": "execute_result"
    }
   ],
   "source": [
    "df_predictions"
   ]
  },
  {
   "cell_type": "code",
   "execution_count": 58,
   "metadata": {
    "id": "YvWQuyJGuaGV"
   },
   "outputs": [
    {
     "data": {
      "text/html": [
       "<div>\n",
       "<style scoped>\n",
       "    .dataframe tbody tr th:only-of-type {\n",
       "        vertical-align: middle;\n",
       "    }\n",
       "\n",
       "    .dataframe tbody tr th {\n",
       "        vertical-align: top;\n",
       "    }\n",
       "\n",
       "    .dataframe thead th {\n",
       "        text-align: right;\n",
       "    }\n",
       "</style>\n",
       "<table border=\"1\" class=\"dataframe\">\n",
       "  <thead>\n",
       "    <tr style=\"text-align: right;\">\n",
       "      <th></th>\n",
       "      <th>movie id</th>\n",
       "      <th>estimation</th>\n",
       "      <th>movie title</th>\n",
       "      <th>IMDb URL</th>\n",
       "    </tr>\n",
       "  </thead>\n",
       "  <tbody>\n",
       "    <tr>\n",
       "      <th>0</th>\n",
       "      <td>1309</td>\n",
       "      <td>4.500000</td>\n",
       "      <td>Very Natural Thing, A (1974)</td>\n",
       "      <td>http://us.imdb.com/M/title-exact?Very%20Natura...</td>\n",
       "    </tr>\n",
       "    <tr>\n",
       "      <th>1</th>\n",
       "      <td>1310</td>\n",
       "      <td>4.500000</td>\n",
       "      <td>Walk in the Sun, A (1945)</td>\n",
       "      <td>http://us.imdb.com/M/title-exact?Walk%20in%20t...</td>\n",
       "    </tr>\n",
       "    <tr>\n",
       "      <th>2</th>\n",
       "      <td>1676</td>\n",
       "      <td>4.250000</td>\n",
       "      <td>War at Home, The (1996)</td>\n",
       "      <td>http://us.imdb.com/M/title-exact?War%20at%20Ho...</td>\n",
       "    </tr>\n",
       "    <tr>\n",
       "      <th>3</th>\n",
       "      <td>1675</td>\n",
       "      <td>4.250000</td>\n",
       "      <td>Sunchaser, The (1996)</td>\n",
       "      <td>http://us.imdb.com/M/title-exact?Sunchaser,%20...</td>\n",
       "    </tr>\n",
       "    <tr>\n",
       "      <th>4</th>\n",
       "      <td>1289</td>\n",
       "      <td>4.202436</td>\n",
       "      <td>Jack and Sarah (1995)</td>\n",
       "      <td>http://us.imdb.com/M/title-exact?Jack%20and%20...</td>\n",
       "    </tr>\n",
       "    <tr>\n",
       "      <th>5</th>\n",
       "      <td>1643</td>\n",
       "      <td>4.097226</td>\n",
       "      <td>Angel Baby (1995)</td>\n",
       "      <td>http://us.imdb.com/Title?Angel+Baby+(1995/I)</td>\n",
       "    </tr>\n",
       "    <tr>\n",
       "      <th>6</th>\n",
       "      <td>1593</td>\n",
       "      <td>4.090909</td>\n",
       "      <td>Death in Brunswick (1991)</td>\n",
       "      <td>http://us.imdb.com/M/title-exact?Death%20in%20...</td>\n",
       "    </tr>\n",
       "    <tr>\n",
       "      <th>7</th>\n",
       "      <td>935</td>\n",
       "      <td>4.051367</td>\n",
       "      <td>Paradise Road (1997)</td>\n",
       "      <td>http://us.imdb.com/M/title-exact?Paradise%20Ro...</td>\n",
       "    </tr>\n",
       "    <tr>\n",
       "      <th>8</th>\n",
       "      <td>1216</td>\n",
       "      <td>4.050692</td>\n",
       "      <td>Kissed (1996)</td>\n",
       "      <td>http://us.imdb.com/M/title-exact?Kissed%20%281...</td>\n",
       "    </tr>\n",
       "    <tr>\n",
       "      <th>9</th>\n",
       "      <td>1312</td>\n",
       "      <td>4.049247</td>\n",
       "      <td>Pompatus of Love, The (1996)</td>\n",
       "      <td>http://us.imdb.com/M/title-exact?Pompatus%20of...</td>\n",
       "    </tr>\n",
       "  </tbody>\n",
       "</table>\n",
       "</div>"
      ],
      "text/plain": [
       "   movie id  estimation                   movie title  \\\n",
       "0      1309    4.500000  Very Natural Thing, A (1974)   \n",
       "1      1310    4.500000     Walk in the Sun, A (1945)   \n",
       "2      1676    4.250000       War at Home, The (1996)   \n",
       "3      1675    4.250000         Sunchaser, The (1996)   \n",
       "4      1289    4.202436         Jack and Sarah (1995)   \n",
       "5      1643    4.097226             Angel Baby (1995)   \n",
       "6      1593    4.090909     Death in Brunswick (1991)   \n",
       "7       935    4.051367          Paradise Road (1997)   \n",
       "8      1216    4.050692                 Kissed (1996)   \n",
       "9      1312    4.049247  Pompatus of Love, The (1996)   \n",
       "\n",
       "                                           IMDb URL   \n",
       "0  http://us.imdb.com/M/title-exact?Very%20Natura...  \n",
       "1  http://us.imdb.com/M/title-exact?Walk%20in%20t...  \n",
       "2  http://us.imdb.com/M/title-exact?War%20at%20Ho...  \n",
       "3  http://us.imdb.com/M/title-exact?Sunchaser,%20...  \n",
       "4  http://us.imdb.com/M/title-exact?Jack%20and%20...  \n",
       "5       http://us.imdb.com/Title?Angel+Baby+(1995/I)  \n",
       "6  http://us.imdb.com/M/title-exact?Death%20in%20...  \n",
       "7  http://us.imdb.com/M/title-exact?Paradise%20Ro...  \n",
       "8  http://us.imdb.com/M/title-exact?Kissed%20%281...  \n",
       "9  http://us.imdb.com/M/title-exact?Pompatus%20of...  "
      ]
     },
     "execution_count": 58,
     "metadata": {},
     "output_type": "execute_result"
    }
   ],
   "source": [
    "#Lo unimos con el dataframe de películas\n",
    "df_predictions.merge(items[['movie title','IMDb URL ']], how='left', right_index=True, left_on='movie id')"
   ]
  },
  {
   "cell_type": "markdown",
   "metadata": {
    "id": "4oAheKoNvTU0"
   },
   "source": [
    "## Utilice las siguientes celdas para encontrar la respuesta a las siguientes preguntas\n",
    "\n",
    "Cree al menos 2 usuarios (al primero asígnele el id 944) y cree para cada usuario ratings nuevos (puede hacerlo haciendo a traves del [dataframe](https://pandas.pydata.org/pandas-docs/stable/reference/api/pandas.DataFrame.append.html), o añadiendo líneas al archivo). Asigne a un usuario preferencias de un segmento popular (mainstream) y a otro preferencias de un nicho.\n",
    "\n",
    "¿Que tan bien cree que el sistema esta respondiendo a los gustos del usuario?\n",
    "\n",
    "¿Que tan bien cree que el sistema esta respondiendo al objetivo de buscar items para el usuario dentro de la cola larga?"
   ]
  },
  {
   "cell_type": "code",
   "execution_count": null,
   "metadata": {
    "id": "mQ4vk_19unXV"
   },
   "outputs": [],
   "source": [
    "ratings['user_id'].max()+1"
   ]
  },
  {
   "cell_type": "code",
   "execution_count": null,
   "metadata": {
    "id": "EcoiOZIavjLl"
   },
   "outputs": [],
   "source": []
  }
 ],
 "metadata": {
  "colab": {
   "collapsed_sections": [],
   "include_colab_link": true,
   "name": "Copia de MINE_4201_SR_Laboratorio_1.ipynb",
   "provenance": [],
   "toc_visible": true
  },
  "kernelspec": {
   "display_name": "Python 3",
   "language": "python",
   "name": "python3"
  },
  "language_info": {
   "codemirror_mode": {
    "name": "ipython",
    "version": 3
   },
   "file_extension": ".py",
   "mimetype": "text/x-python",
   "name": "python",
   "nbconvert_exporter": "python",
   "pygments_lexer": "ipython3",
   "version": "3.8.5"
  }
 },
 "nbformat": 4,
 "nbformat_minor": 1
}
