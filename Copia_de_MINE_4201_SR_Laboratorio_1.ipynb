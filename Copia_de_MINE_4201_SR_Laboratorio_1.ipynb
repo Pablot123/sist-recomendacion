{
  "nbformat": 4,
  "nbformat_minor": 0,
  "metadata": {
    "colab": {
      "name": "Copia de MINE_4201_SR_Laboratorio_1.ipynb",
      "provenance": [],
      "collapsed_sections": [],
      "toc_visible": true,
      "include_colab_link": true
    },
    "kernelspec": {
      "name": "python3",
      "display_name": "Python 3"
    }
  },
  "cells": [
    {
      "cell_type": "markdown",
      "metadata": {
        "id": "view-in-github",
        "colab_type": "text"
      },
      "source": [
        "<a href=\"https://colab.research.google.com/github/Pablot123/sist-recomendacion/blob/main/Copia_de_MINE_4201_SR_Laboratorio_1.ipynb\" target=\"_parent\"><img src=\"https://colab.research.google.com/assets/colab-badge.svg\" alt=\"Open In Colab\"/></a>"
      ]
    },
    {
      "cell_type": "markdown",
      "metadata": {
        "id": "-ODlNBWj3QZx"
      },
      "source": [
        "# MINE 4201- SR -  Laboratorio 1 \n",
        "# Exploración modelos KNN\n",
        "\n"
      ]
    },
    {
      "cell_type": "markdown",
      "metadata": {
        "id": "ed1-j-PSjcXX"
      },
      "source": [
        "Vamos a utilizar las siguientes librerias en el laboratorio\n"
      ]
    },
    {
      "cell_type": "code",
      "metadata": {
        "id": "g7SNsxhDkO6k",
        "colab": {
          "base_uri": "https://localhost:8080/"
        },
        "outputId": "537df000-4632-42b5-d271-b74cbc67af45"
      },
      "source": [
        "!pip install numpy\n",
        "!pip install scikit-surprise\n",
        "!pip install pandas\n",
        "!pip install seaborn"
      ],
      "execution_count": 3,
      "outputs": [
        {
          "output_type": "stream",
          "text": [
            "Requirement already satisfied: numpy in /usr/local/lib/python3.6/dist-packages (1.19.5)\n",
            "Collecting scikit-surprise\n",
            "\u001b[?25l  Downloading https://files.pythonhosted.org/packages/97/37/5d334adaf5ddd65da99fc65f6507e0e4599d092ba048f4302fe8775619e8/scikit-surprise-1.1.1.tar.gz (11.8MB)\n",
            "\u001b[K     |████████████████████████████████| 11.8MB 6.0MB/s \n",
            "\u001b[?25hRequirement already satisfied: joblib>=0.11 in /usr/local/lib/python3.6/dist-packages (from scikit-surprise) (1.0.0)\n",
            "Requirement already satisfied: numpy>=1.11.2 in /usr/local/lib/python3.6/dist-packages (from scikit-surprise) (1.19.5)\n",
            "Requirement already satisfied: scipy>=1.0.0 in /usr/local/lib/python3.6/dist-packages (from scikit-surprise) (1.4.1)\n",
            "Requirement already satisfied: six>=1.10.0 in /usr/local/lib/python3.6/dist-packages (from scikit-surprise) (1.15.0)\n",
            "Building wheels for collected packages: scikit-surprise\n",
            "  Building wheel for scikit-surprise (setup.py) ... \u001b[?25l\u001b[?25hdone\n",
            "  Created wheel for scikit-surprise: filename=scikit_surprise-1.1.1-cp36-cp36m-linux_x86_64.whl size=1618282 sha256=89aa41229e6e3431b0072295a2b14d60e73db0fce0445914c48fcb7691467e9d\n",
            "  Stored in directory: /root/.cache/pip/wheels/78/9c/3d/41b419c9d2aff5b6e2b4c0fc8d25c538202834058f9ed110d0\n",
            "Successfully built scikit-surprise\n",
            "Installing collected packages: scikit-surprise\n",
            "Successfully installed scikit-surprise-1.1.1\n",
            "Requirement already satisfied: pandas in /usr/local/lib/python3.6/dist-packages (1.1.5)\n",
            "Requirement already satisfied: numpy>=1.15.4 in /usr/local/lib/python3.6/dist-packages (from pandas) (1.19.5)\n",
            "Requirement already satisfied: pytz>=2017.2 in /usr/local/lib/python3.6/dist-packages (from pandas) (2018.9)\n",
            "Requirement already satisfied: python-dateutil>=2.7.3 in /usr/local/lib/python3.6/dist-packages (from pandas) (2.8.1)\n",
            "Requirement already satisfied: six>=1.5 in /usr/local/lib/python3.6/dist-packages (from python-dateutil>=2.7.3->pandas) (1.15.0)\n",
            "Requirement already satisfied: seaborn in /usr/local/lib/python3.6/dist-packages (0.11.1)\n",
            "Requirement already satisfied: pandas>=0.23 in /usr/local/lib/python3.6/dist-packages (from seaborn) (1.1.5)\n",
            "Requirement already satisfied: numpy>=1.15 in /usr/local/lib/python3.6/dist-packages (from seaborn) (1.19.5)\n",
            "Requirement already satisfied: matplotlib>=2.2 in /usr/local/lib/python3.6/dist-packages (from seaborn) (3.2.2)\n",
            "Requirement already satisfied: scipy>=1.0 in /usr/local/lib/python3.6/dist-packages (from seaborn) (1.4.1)\n",
            "Requirement already satisfied: pytz>=2017.2 in /usr/local/lib/python3.6/dist-packages (from pandas>=0.23->seaborn) (2018.9)\n",
            "Requirement already satisfied: python-dateutil>=2.7.3 in /usr/local/lib/python3.6/dist-packages (from pandas>=0.23->seaborn) (2.8.1)\n",
            "Requirement already satisfied: kiwisolver>=1.0.1 in /usr/local/lib/python3.6/dist-packages (from matplotlib>=2.2->seaborn) (1.3.1)\n",
            "Requirement already satisfied: pyparsing!=2.0.4,!=2.1.2,!=2.1.6,>=2.0.1 in /usr/local/lib/python3.6/dist-packages (from matplotlib>=2.2->seaborn) (2.4.7)\n",
            "Requirement already satisfied: cycler>=0.10 in /usr/local/lib/python3.6/dist-packages (from matplotlib>=2.2->seaborn) (0.10.0)\n",
            "Requirement already satisfied: six>=1.5 in /usr/local/lib/python3.6/dist-packages (from python-dateutil>=2.7.3->pandas>=0.23->seaborn) (1.15.0)\n"
          ],
          "name": "stdout"
        }
      ]
    },
    {
      "cell_type": "code",
      "metadata": {
        "id": "Ue3y8dqL7osB",
        "colab": {
          "base_uri": "https://localhost:8080/",
          "height": 35
        },
        "outputId": "6757252d-359b-41fd-b37d-7ebab9426555"
      },
      "source": [
        "pwd"
      ],
      "execution_count": 4,
      "outputs": [
        {
          "output_type": "execute_result",
          "data": {
            "application/vnd.google.colaboratory.intrinsic+json": {
              "type": "string"
            },
            "text/plain": [
              "'/content'"
            ]
          },
          "metadata": {
            "tags": []
          },
          "execution_count": 4
        }
      ]
    },
    {
      "cell_type": "code",
      "metadata": {
        "id": "MZy484IS5l04"
      },
      "source": [
        "import os\n",
        "import numpy as np\n",
        "import pandas as pd\n",
        "import seaborn as sns\n",
        "from surprise import Reader\n",
        "from surprise import Dataset\n",
        "from surprise.model_selection import train_test_split\n",
        "from surprise import KNNBasic\n",
        "from surprise import accuracy\n",
        "import random\n",
        "\n",
        "#Para garantizar reproducibilidad en resultados\n",
        "seed = 10\n",
        "random.seed(seed)\n",
        "np.random.seed(seed)\n"
      ],
      "execution_count": 5,
      "outputs": []
    },
    {
      "cell_type": "markdown",
      "metadata": {
        "id": "VApWKvPdWmtm"
      },
      "source": [
        "## Suba al servidor los archivos u.data y u.item que se encuentran en el dataset descargado, en la pestaña files"
      ]
    },
    {
      "cell_type": "code",
      "metadata": {
        "id": "-ayxnwj06r4C",
        "colab": {
          "base_uri": "https://localhost:8080/"
        },
        "outputId": "c17eab8c-2b04-4629-a4c3-e766631fd6a7"
      },
      "source": [
        "if not (os.path.exists('/content/u.data') and os.path.exists('/content/u.item')):\n",
        "  raise ValueError('Los archivos u.data e u.item no fueron encontrados en el path')\n",
        "else:\n",
        "  print(\"Los archivos han sido cargados\")"
      ],
      "execution_count": 7,
      "outputs": [
        {
          "output_type": "stream",
          "text": [
            "Los archivos han sido cargados\n"
          ],
          "name": "stdout"
        }
      ]
    },
    {
      "cell_type": "code",
      "metadata": {
        "id": "2fY0BV4Y7Cfn"
      },
      "source": [
        "ratings=pd.read_csv('/content/u.data', sep = '\\t', names = [ 'user_id', 'item_id', 'rating', 'timestamp' ] )"
      ],
      "execution_count": 8,
      "outputs": []
    },
    {
      "cell_type": "code",
      "metadata": {
        "id": "4xh6HByEXjLN",
        "colab": {
          "base_uri": "https://localhost:8080/"
        },
        "outputId": "59e029b2-48d7-4c74-ff88-cca4aa941ab9"
      },
      "source": [
        "items=pd.read_csv('/content/u.item', sep = '\\|', names = ['movie id' ,'movie title','release date','video release date','IMDb URL ','unknown',\n",
        "                                                          'Action','Adventure','Animation','Children','Comedy','Crime','Documentary','Drama',\n",
        "                                                          'Fantasy','Film-Noir','Horror','Musical','Mystery','Romance','Sci-Fi','Thriller','War','Western'], encoding='latin-1' )"
      ],
      "execution_count": 9,
      "outputs": [
        {
          "output_type": "stream",
          "text": [
            "/usr/local/lib/python3.6/dist-packages/ipykernel_launcher.py:3: ParserWarning: Falling back to the 'python' engine because the 'c' engine does not support regex separators (separators > 1 char and different from '\\s+' are interpreted as regex); you can avoid this warning by specifying engine='python'.\n",
            "  This is separate from the ipykernel package so we can avoid doing imports until\n"
          ],
          "name": "stderr"
        }
      ]
    },
    {
      "cell_type": "markdown",
      "metadata": {
        "id": "hyGTV0lPiGZJ"
      },
      "source": [
        "Verifique que los ratings y los items hayan sido cargados correctamente\n",
        "\n",
        "\n",
        "\n"
      ]
    },
    {
      "cell_type": "code",
      "metadata": {
        "id": "JF-3Z1T4iAaI",
        "colab": {
          "base_uri": "https://localhost:8080/",
          "height": 204
        },
        "outputId": "5b6b1084-54cb-414c-b021-2845134216c4"
      },
      "source": [
        "ratings.head()\n",
        "\n"
      ],
      "execution_count": 10,
      "outputs": [
        {
          "output_type": "execute_result",
          "data": {
            "text/html": [
              "<div>\n",
              "<style scoped>\n",
              "    .dataframe tbody tr th:only-of-type {\n",
              "        vertical-align: middle;\n",
              "    }\n",
              "\n",
              "    .dataframe tbody tr th {\n",
              "        vertical-align: top;\n",
              "    }\n",
              "\n",
              "    .dataframe thead th {\n",
              "        text-align: right;\n",
              "    }\n",
              "</style>\n",
              "<table border=\"1\" class=\"dataframe\">\n",
              "  <thead>\n",
              "    <tr style=\"text-align: right;\">\n",
              "      <th></th>\n",
              "      <th>user_id</th>\n",
              "      <th>item_id</th>\n",
              "      <th>rating</th>\n",
              "      <th>timestamp</th>\n",
              "    </tr>\n",
              "  </thead>\n",
              "  <tbody>\n",
              "    <tr>\n",
              "      <th>0</th>\n",
              "      <td>196</td>\n",
              "      <td>242</td>\n",
              "      <td>3</td>\n",
              "      <td>881250949</td>\n",
              "    </tr>\n",
              "    <tr>\n",
              "      <th>1</th>\n",
              "      <td>186</td>\n",
              "      <td>302</td>\n",
              "      <td>3</td>\n",
              "      <td>891717742</td>\n",
              "    </tr>\n",
              "    <tr>\n",
              "      <th>2</th>\n",
              "      <td>22</td>\n",
              "      <td>377</td>\n",
              "      <td>1</td>\n",
              "      <td>878887116</td>\n",
              "    </tr>\n",
              "    <tr>\n",
              "      <th>3</th>\n",
              "      <td>244</td>\n",
              "      <td>51</td>\n",
              "      <td>2</td>\n",
              "      <td>880606923</td>\n",
              "    </tr>\n",
              "    <tr>\n",
              "      <th>4</th>\n",
              "      <td>166</td>\n",
              "      <td>346</td>\n",
              "      <td>1</td>\n",
              "      <td>886397596</td>\n",
              "    </tr>\n",
              "  </tbody>\n",
              "</table>\n",
              "</div>"
            ],
            "text/plain": [
              "   user_id  item_id  rating  timestamp\n",
              "0      196      242       3  881250949\n",
              "1      186      302       3  891717742\n",
              "2       22      377       1  878887116\n",
              "3      244       51       2  880606923\n",
              "4      166      346       1  886397596"
            ]
          },
          "metadata": {
            "tags": []
          },
          "execution_count": 10
        }
      ]
    },
    {
      "cell_type": "code",
      "metadata": {
        "id": "ztMyJLZjRIiU"
      },
      "source": [
        "# Se cambia el índice por la columna movie id\r\n",
        "items=items.set_index(items['movie id'])"
      ],
      "execution_count": 11,
      "outputs": []
    },
    {
      "cell_type": "code",
      "metadata": {
        "id": "2_B1Bpq3xF18",
        "colab": {
          "base_uri": "https://localhost:8080/",
          "height": 425
        },
        "outputId": "1d920cb6-d001-4d60-8836-6b0a87f261c4"
      },
      "source": [
        "items.head()"
      ],
      "execution_count": 12,
      "outputs": [
        {
          "output_type": "execute_result",
          "data": {
            "text/html": [
              "<div>\n",
              "<style scoped>\n",
              "    .dataframe tbody tr th:only-of-type {\n",
              "        vertical-align: middle;\n",
              "    }\n",
              "\n",
              "    .dataframe tbody tr th {\n",
              "        vertical-align: top;\n",
              "    }\n",
              "\n",
              "    .dataframe thead th {\n",
              "        text-align: right;\n",
              "    }\n",
              "</style>\n",
              "<table border=\"1\" class=\"dataframe\">\n",
              "  <thead>\n",
              "    <tr style=\"text-align: right;\">\n",
              "      <th></th>\n",
              "      <th>movie id</th>\n",
              "      <th>movie title</th>\n",
              "      <th>release date</th>\n",
              "      <th>video release date</th>\n",
              "      <th>IMDb URL</th>\n",
              "      <th>unknown</th>\n",
              "      <th>Action</th>\n",
              "      <th>Adventure</th>\n",
              "      <th>Animation</th>\n",
              "      <th>Children</th>\n",
              "      <th>Comedy</th>\n",
              "      <th>Crime</th>\n",
              "      <th>Documentary</th>\n",
              "      <th>Drama</th>\n",
              "      <th>Fantasy</th>\n",
              "      <th>Film-Noir</th>\n",
              "      <th>Horror</th>\n",
              "      <th>Musical</th>\n",
              "      <th>Mystery</th>\n",
              "      <th>Romance</th>\n",
              "      <th>Sci-Fi</th>\n",
              "      <th>Thriller</th>\n",
              "      <th>War</th>\n",
              "      <th>Western</th>\n",
              "    </tr>\n",
              "    <tr>\n",
              "      <th>movie id</th>\n",
              "      <th></th>\n",
              "      <th></th>\n",
              "      <th></th>\n",
              "      <th></th>\n",
              "      <th></th>\n",
              "      <th></th>\n",
              "      <th></th>\n",
              "      <th></th>\n",
              "      <th></th>\n",
              "      <th></th>\n",
              "      <th></th>\n",
              "      <th></th>\n",
              "      <th></th>\n",
              "      <th></th>\n",
              "      <th></th>\n",
              "      <th></th>\n",
              "      <th></th>\n",
              "      <th></th>\n",
              "      <th></th>\n",
              "      <th></th>\n",
              "      <th></th>\n",
              "      <th></th>\n",
              "      <th></th>\n",
              "      <th></th>\n",
              "    </tr>\n",
              "  </thead>\n",
              "  <tbody>\n",
              "    <tr>\n",
              "      <th>1</th>\n",
              "      <td>1</td>\n",
              "      <td>Toy Story (1995)</td>\n",
              "      <td>01-Jan-1995</td>\n",
              "      <td>NaN</td>\n",
              "      <td>http://us.imdb.com/M/title-exact?Toy%20Story%2...</td>\n",
              "      <td>0</td>\n",
              "      <td>0</td>\n",
              "      <td>0</td>\n",
              "      <td>1</td>\n",
              "      <td>1</td>\n",
              "      <td>1</td>\n",
              "      <td>0</td>\n",
              "      <td>0</td>\n",
              "      <td>0</td>\n",
              "      <td>0</td>\n",
              "      <td>0</td>\n",
              "      <td>0</td>\n",
              "      <td>0</td>\n",
              "      <td>0</td>\n",
              "      <td>0</td>\n",
              "      <td>0</td>\n",
              "      <td>0</td>\n",
              "      <td>0</td>\n",
              "      <td>0</td>\n",
              "    </tr>\n",
              "    <tr>\n",
              "      <th>2</th>\n",
              "      <td>2</td>\n",
              "      <td>GoldenEye (1995)</td>\n",
              "      <td>01-Jan-1995</td>\n",
              "      <td>NaN</td>\n",
              "      <td>http://us.imdb.com/M/title-exact?GoldenEye%20(...</td>\n",
              "      <td>0</td>\n",
              "      <td>1</td>\n",
              "      <td>1</td>\n",
              "      <td>0</td>\n",
              "      <td>0</td>\n",
              "      <td>0</td>\n",
              "      <td>0</td>\n",
              "      <td>0</td>\n",
              "      <td>0</td>\n",
              "      <td>0</td>\n",
              "      <td>0</td>\n",
              "      <td>0</td>\n",
              "      <td>0</td>\n",
              "      <td>0</td>\n",
              "      <td>0</td>\n",
              "      <td>0</td>\n",
              "      <td>1</td>\n",
              "      <td>0</td>\n",
              "      <td>0</td>\n",
              "    </tr>\n",
              "    <tr>\n",
              "      <th>3</th>\n",
              "      <td>3</td>\n",
              "      <td>Four Rooms (1995)</td>\n",
              "      <td>01-Jan-1995</td>\n",
              "      <td>NaN</td>\n",
              "      <td>http://us.imdb.com/M/title-exact?Four%20Rooms%...</td>\n",
              "      <td>0</td>\n",
              "      <td>0</td>\n",
              "      <td>0</td>\n",
              "      <td>0</td>\n",
              "      <td>0</td>\n",
              "      <td>0</td>\n",
              "      <td>0</td>\n",
              "      <td>0</td>\n",
              "      <td>0</td>\n",
              "      <td>0</td>\n",
              "      <td>0</td>\n",
              "      <td>0</td>\n",
              "      <td>0</td>\n",
              "      <td>0</td>\n",
              "      <td>0</td>\n",
              "      <td>0</td>\n",
              "      <td>1</td>\n",
              "      <td>0</td>\n",
              "      <td>0</td>\n",
              "    </tr>\n",
              "    <tr>\n",
              "      <th>4</th>\n",
              "      <td>4</td>\n",
              "      <td>Get Shorty (1995)</td>\n",
              "      <td>01-Jan-1995</td>\n",
              "      <td>NaN</td>\n",
              "      <td>http://us.imdb.com/M/title-exact?Get%20Shorty%...</td>\n",
              "      <td>0</td>\n",
              "      <td>1</td>\n",
              "      <td>0</td>\n",
              "      <td>0</td>\n",
              "      <td>0</td>\n",
              "      <td>1</td>\n",
              "      <td>0</td>\n",
              "      <td>0</td>\n",
              "      <td>1</td>\n",
              "      <td>0</td>\n",
              "      <td>0</td>\n",
              "      <td>0</td>\n",
              "      <td>0</td>\n",
              "      <td>0</td>\n",
              "      <td>0</td>\n",
              "      <td>0</td>\n",
              "      <td>0</td>\n",
              "      <td>0</td>\n",
              "      <td>0</td>\n",
              "    </tr>\n",
              "    <tr>\n",
              "      <th>5</th>\n",
              "      <td>5</td>\n",
              "      <td>Copycat (1995)</td>\n",
              "      <td>01-Jan-1995</td>\n",
              "      <td>NaN</td>\n",
              "      <td>http://us.imdb.com/M/title-exact?Copycat%20(1995)</td>\n",
              "      <td>0</td>\n",
              "      <td>0</td>\n",
              "      <td>0</td>\n",
              "      <td>0</td>\n",
              "      <td>0</td>\n",
              "      <td>0</td>\n",
              "      <td>1</td>\n",
              "      <td>0</td>\n",
              "      <td>1</td>\n",
              "      <td>0</td>\n",
              "      <td>0</td>\n",
              "      <td>0</td>\n",
              "      <td>0</td>\n",
              "      <td>0</td>\n",
              "      <td>0</td>\n",
              "      <td>0</td>\n",
              "      <td>1</td>\n",
              "      <td>0</td>\n",
              "      <td>0</td>\n",
              "    </tr>\n",
              "  </tbody>\n",
              "</table>\n",
              "</div>"
            ],
            "text/plain": [
              "          movie id        movie title release date  ...  Thriller War  Western\n",
              "movie id                                            ...                       \n",
              "1                1   Toy Story (1995)  01-Jan-1995  ...         0   0        0\n",
              "2                2   GoldenEye (1995)  01-Jan-1995  ...         1   0        0\n",
              "3                3  Four Rooms (1995)  01-Jan-1995  ...         1   0        0\n",
              "4                4  Get Shorty (1995)  01-Jan-1995  ...         0   0        0\n",
              "5                5     Copycat (1995)  01-Jan-1995  ...         1   0        0\n",
              "\n",
              "[5 rows x 24 columns]"
            ]
          },
          "metadata": {
            "tags": []
          },
          "execution_count": 12
        }
      ]
    },
    {
      "cell_type": "markdown",
      "metadata": {
        "id": "lkhrr5u0lVl_"
      },
      "source": [
        "## Visualice la distribución de ratings, ¿Qué puede decir al respecto?"
      ]
    },
    {
      "cell_type": "code",
      "metadata": {
        "id": "CrVPRhE_ZkvM",
        "colab": {
          "base_uri": "https://localhost:8080/",
          "height": 296
        },
        "outputId": "ebf31edd-0ba1-481c-8f1e-004ddf015ffc"
      },
      "source": [
        "sns.countplot(y='rating', data=ratings)\r\n",
        "#ratings.describe()"
      ],
      "execution_count": 13,
      "outputs": [
        {
          "output_type": "execute_result",
          "data": {
            "text/plain": [
              "<matplotlib.axes._subplots.AxesSubplot at 0x7f92d5903470>"
            ]
          },
          "metadata": {
            "tags": []
          },
          "execution_count": 13
        },
        {
          "output_type": "display_data",
          "data": {
            "image/png": "[encoded data removed]",
            "text/plain": [
              "<Figure size 432x288 with 1 Axes>"
            ]
          },
          "metadata": {
            "tags": [],
            "needs_background": "light"
          }
        }
      ]
    },
    {
      "cell_type": "markdown",
      "metadata": {
        "id": "6fm6Ty2GnX3A"
      },
      "source": [
        "La peliculas tienen unn buen nivel de aceptacion.\r\n",
        "Hay una mayor distrubicuon hacia los ratings altos.\r\n"
      ]
    },
    {
      "cell_type": "markdown",
      "metadata": {
        "id": "Rvyd2GmRnegf"
      },
      "source": [
        "## En la siguiente celda se esta calculando el número de ratings por usuario y  el promedio de sus calificaciones, el dataframe esta ordenado por el número de calificaciones"
      ]
    },
    {
      "cell_type": "code",
      "metadata": {
        "id": "JapJ5D8Sg8ZZ",
        "colab": {
          "base_uri": "https://localhost:8080/",
          "height": 450
        },
        "outputId": "148ae92e-84af-4913-b6bc-74c771093c13"
      },
      "source": [
        "ratings.groupby('user_id')['rating'].agg({'count','mean'}).sort_values(by='count', ascending=False)"
      ],
      "execution_count": 14,
      "outputs": [
        {
          "output_type": "execute_result",
          "data": {
            "text/html": [
              "<div>\n",
              "<style scoped>\n",
              "    .dataframe tbody tr th:only-of-type {\n",
              "        vertical-align: middle;\n",
              "    }\n",
              "\n",
              "    .dataframe tbody tr th {\n",
              "        vertical-align: top;\n",
              "    }\n",
              "\n",
              "    .dataframe thead th {\n",
              "        text-align: right;\n",
              "    }\n",
              "</style>\n",
              "<table border=\"1\" class=\"dataframe\">\n",
              "  <thead>\n",
              "    <tr style=\"text-align: right;\">\n",
              "      <th></th>\n",
              "      <th>count</th>\n",
              "      <th>mean</th>\n",
              "    </tr>\n",
              "    <tr>\n",
              "      <th>user_id</th>\n",
              "      <th></th>\n",
              "      <th></th>\n",
              "    </tr>\n",
              "  </thead>\n",
              "  <tbody>\n",
              "    <tr>\n",
              "      <th>405</th>\n",
              "      <td>737</td>\n",
              "      <td>1.834464</td>\n",
              "    </tr>\n",
              "    <tr>\n",
              "      <th>655</th>\n",
              "      <td>685</td>\n",
              "      <td>2.908029</td>\n",
              "    </tr>\n",
              "    <tr>\n",
              "      <th>13</th>\n",
              "      <td>636</td>\n",
              "      <td>3.097484</td>\n",
              "    </tr>\n",
              "    <tr>\n",
              "      <th>450</th>\n",
              "      <td>540</td>\n",
              "      <td>3.864815</td>\n",
              "    </tr>\n",
              "    <tr>\n",
              "      <th>276</th>\n",
              "      <td>518</td>\n",
              "      <td>3.465251</td>\n",
              "    </tr>\n",
              "    <tr>\n",
              "      <th>...</th>\n",
              "      <td>...</td>\n",
              "      <td>...</td>\n",
              "    </tr>\n",
              "    <tr>\n",
              "      <th>685</th>\n",
              "      <td>20</td>\n",
              "      <td>2.050000</td>\n",
              "    </tr>\n",
              "    <tr>\n",
              "      <th>475</th>\n",
              "      <td>20</td>\n",
              "      <td>3.600000</td>\n",
              "    </tr>\n",
              "    <tr>\n",
              "      <th>36</th>\n",
              "      <td>20</td>\n",
              "      <td>3.800000</td>\n",
              "    </tr>\n",
              "    <tr>\n",
              "      <th>732</th>\n",
              "      <td>20</td>\n",
              "      <td>3.700000</td>\n",
              "    </tr>\n",
              "    <tr>\n",
              "      <th>596</th>\n",
              "      <td>20</td>\n",
              "      <td>3.600000</td>\n",
              "    </tr>\n",
              "  </tbody>\n",
              "</table>\n",
              "<p>943 rows × 2 columns</p>\n",
              "</div>"
            ],
            "text/plain": [
              "         count      mean\n",
              "user_id                 \n",
              "405        737  1.834464\n",
              "655        685  2.908029\n",
              "13         636  3.097484\n",
              "450        540  3.864815\n",
              "276        518  3.465251\n",
              "...        ...       ...\n",
              "685         20  2.050000\n",
              "475         20  3.600000\n",
              "36          20  3.800000\n",
              "732         20  3.700000\n",
              "596         20  3.600000\n",
              "\n",
              "[943 rows x 2 columns]"
            ]
          },
          "metadata": {
            "tags": []
          },
          "execution_count": 14
        }
      ]
    },
    {
      "cell_type": "markdown",
      "metadata": {
        "id": "IOH5jtpUokKn"
      },
      "source": [
        "##Utilice las siguientes celdas para encontrar respuesta a las siguientes preguntas\n",
        "\n",
        "¿Cómo es la distribución del número de ratings por usuario?\n",
        "\n",
        "¿Cómo es la distribución del promedio de calificación por usuario?\n"
      ]
    },
    {
      "cell_type": "code",
      "metadata": {
        "id": "9PA43szmpTiQ",
        "colab": {
          "base_uri": "https://localhost:8080/",
          "height": 386
        },
        "outputId": "4092f87a-cd54-40ef-a043-5cf6f929d332"
      },
      "source": [
        "df_rating_agrupada=ratings.groupby('user_id')['rating'].agg({'count','mean'}).sort_values(by='count', ascending=False)\r\n",
        "g = sns.displot(data=df_rating_agrupada, x='count')\r\n",
        "g.set_axis_labels(\"Numbers of ratings\",\"Number of users\")"
      ],
      "execution_count": 15,
      "outputs": [
        {
          "output_type": "execute_result",
          "data": {
            "text/plain": [
              "<seaborn.axisgrid.FacetGrid at 0x7f92c56c8710>"
            ]
          },
          "metadata": {
            "tags": []
          },
          "execution_count": 15
        },
        {
          "output_type": "display_data",
          "data": {
            "image/png": "[encoded data removed]",
            "text/plain": [
              "<Figure size 360x360 with 1 Axes>"
            ]
          },
          "metadata": {
            "tags": [],
            "needs_background": "light"
          }
        }
      ]
    },
    {
      "cell_type": "code",
      "metadata": {
        "id": "O2UkypiRpTLA",
        "colab": {
          "base_uri": "https://localhost:8080/",
          "height": 386
        },
        "outputId": "582ad6b0-201e-4aae-8f73-9a0c17335453"
      },
      "source": [
        "\r\n",
        "g_dos = sns.displot(data=df_rating_agrupada, x='mean')\r\n",
        "g_dos.set_axis_labels(\"Mean of rating\",\"Numbers of users\")\r\n"
      ],
      "execution_count": 16,
      "outputs": [
        {
          "output_type": "execute_result",
          "data": {
            "text/plain": [
              "<seaborn.axisgrid.FacetGrid at 0x7f92bc747a58>"
            ]
          },
          "metadata": {
            "tags": []
          },
          "execution_count": 16
        },
        {
          "output_type": "display_data",
          "data": {
            "image/png": "[encoded data removed]",
            "text/plain": [
              "<Figure size 360x360 with 1 Axes>"
            ]
          },
          "metadata": {
            "tags": [],
            "needs_background": "light"
          }
        }
      ]
    },
    {
      "cell_type": "markdown",
      "metadata": {
        "id": "Sb2m2qv9sqZt"
      },
      "source": [
        "##En la siguiente celda se esta calculando el número de ratings por items, el promedio de sus calificaciones y la varianza de sus calificaciones. "
      ]
    },
    {
      "cell_type": "code",
      "metadata": {
        "id": "xXZw4Iy2aARs",
        "colab": {
          "base_uri": "https://localhost:8080/",
          "height": 450
        },
        "outputId": "9cb5a832-9780-4123-b325-826ea715e390"
      },
      "source": [
        "df_items = ratings.groupby('item_id')['rating'].agg({'count','mean','var'}).join(items['movie title'], how='left')\r\n",
        "df_items"
      ],
      "execution_count": 17,
      "outputs": [
        {
          "output_type": "execute_result",
          "data": {
            "text/html": [
              "<div>\n",
              "<style scoped>\n",
              "    .dataframe tbody tr th:only-of-type {\n",
              "        vertical-align: middle;\n",
              "    }\n",
              "\n",
              "    .dataframe tbody tr th {\n",
              "        vertical-align: top;\n",
              "    }\n",
              "\n",
              "    .dataframe thead th {\n",
              "        text-align: right;\n",
              "    }\n",
              "</style>\n",
              "<table border=\"1\" class=\"dataframe\">\n",
              "  <thead>\n",
              "    <tr style=\"text-align: right;\">\n",
              "      <th></th>\n",
              "      <th>var</th>\n",
              "      <th>count</th>\n",
              "      <th>mean</th>\n",
              "      <th>movie title</th>\n",
              "    </tr>\n",
              "    <tr>\n",
              "      <th>item_id</th>\n",
              "      <th></th>\n",
              "      <th></th>\n",
              "      <th></th>\n",
              "      <th></th>\n",
              "    </tr>\n",
              "  </thead>\n",
              "  <tbody>\n",
              "    <tr>\n",
              "      <th>1</th>\n",
              "      <td>0.860992</td>\n",
              "      <td>452</td>\n",
              "      <td>3.878319</td>\n",
              "      <td>Toy Story (1995)</td>\n",
              "    </tr>\n",
              "    <tr>\n",
              "      <th>2</th>\n",
              "      <td>0.934116</td>\n",
              "      <td>131</td>\n",
              "      <td>3.206107</td>\n",
              "      <td>GoldenEye (1995)</td>\n",
              "    </tr>\n",
              "    <tr>\n",
              "      <th>3</th>\n",
              "      <td>1.470787</td>\n",
              "      <td>90</td>\n",
              "      <td>3.033333</td>\n",
              "      <td>Four Rooms (1995)</td>\n",
              "    </tr>\n",
              "    <tr>\n",
              "      <th>4</th>\n",
              "      <td>0.931358</td>\n",
              "      <td>209</td>\n",
              "      <td>3.550239</td>\n",
              "      <td>Get Shorty (1995)</td>\n",
              "    </tr>\n",
              "    <tr>\n",
              "      <th>5</th>\n",
              "      <td>0.895759</td>\n",
              "      <td>86</td>\n",
              "      <td>3.302326</td>\n",
              "      <td>Copycat (1995)</td>\n",
              "    </tr>\n",
              "    <tr>\n",
              "      <th>...</th>\n",
              "      <td>...</td>\n",
              "      <td>...</td>\n",
              "      <td>...</td>\n",
              "      <td>...</td>\n",
              "    </tr>\n",
              "    <tr>\n",
              "      <th>1678</th>\n",
              "      <td>NaN</td>\n",
              "      <td>1</td>\n",
              "      <td>1.000000</td>\n",
              "      <td>Mat' i syn (1997)</td>\n",
              "    </tr>\n",
              "    <tr>\n",
              "      <th>1679</th>\n",
              "      <td>NaN</td>\n",
              "      <td>1</td>\n",
              "      <td>3.000000</td>\n",
              "      <td>B. Monkey (1998)</td>\n",
              "    </tr>\n",
              "    <tr>\n",
              "      <th>1680</th>\n",
              "      <td>NaN</td>\n",
              "      <td>1</td>\n",
              "      <td>2.000000</td>\n",
              "      <td>Sliding Doors (1998)</td>\n",
              "    </tr>\n",
              "    <tr>\n",
              "      <th>1681</th>\n",
              "      <td>NaN</td>\n",
              "      <td>1</td>\n",
              "      <td>3.000000</td>\n",
              "      <td>You So Crazy (1994)</td>\n",
              "    </tr>\n",
              "    <tr>\n",
              "      <th>1682</th>\n",
              "      <td>NaN</td>\n",
              "      <td>1</td>\n",
              "      <td>3.000000</td>\n",
              "      <td>Scream of Stone (Schrei aus Stein) (1991)</td>\n",
              "    </tr>\n",
              "  </tbody>\n",
              "</table>\n",
              "<p>1682 rows × 4 columns</p>\n",
              "</div>"
            ],
            "text/plain": [
              "              var  count      mean                                movie title\n",
              "item_id                                                                      \n",
              "1        0.860992    452  3.878319                           Toy Story (1995)\n",
              "2        0.934116    131  3.206107                           GoldenEye (1995)\n",
              "3        1.470787     90  3.033333                          Four Rooms (1995)\n",
              "4        0.931358    209  3.550239                          Get Shorty (1995)\n",
              "5        0.895759     86  3.302326                             Copycat (1995)\n",
              "...           ...    ...       ...                                        ...\n",
              "1678          NaN      1  1.000000                          Mat' i syn (1997)\n",
              "1679          NaN      1  3.000000                           B. Monkey (1998)\n",
              "1680          NaN      1  2.000000                       Sliding Doors (1998)\n",
              "1681          NaN      1  3.000000                        You So Crazy (1994)\n",
              "1682          NaN      1  3.000000  Scream of Stone (Schrei aus Stein) (1991)\n",
              "\n",
              "[1682 rows x 4 columns]"
            ]
          },
          "metadata": {
            "tags": []
          },
          "execution_count": 17
        }
      ]
    },
    {
      "cell_type": "markdown",
      "metadata": {
        "id": "mLsd_rohxMhc"
      },
      "source": [
        "##Utilice las siguientes celdas para encontrar la respuesta a las siguientes preguntas\n",
        "\n",
        "¿Cuáles son los items con más calificaciones?  \n",
        "\n",
        "¿Se puede observar el fenomeno de cola larga en este dataset?, evidencielo por medio de un gráfico\n",
        "\n",
        "\n"
      ]
    },
    {
      "cell_type": "code",
      "metadata": {
        "id": "TP264UnaCzm5",
        "colab": {
          "base_uri": "https://localhost:8080/",
          "height": 390
        },
        "outputId": "4a567f22-e157-4b71-d63b-0a5d808952f1"
      },
      "source": [
        "df_items_sort = df_items.nlargest(10,'count')\r\n",
        "df_items_sort"
      ],
      "execution_count": 18,
      "outputs": [
        {
          "output_type": "execute_result",
          "data": {
            "text/html": [
              "<div>\n",
              "<style scoped>\n",
              "    .dataframe tbody tr th:only-of-type {\n",
              "        vertical-align: middle;\n",
              "    }\n",
              "\n",
              "    .dataframe tbody tr th {\n",
              "        vertical-align: top;\n",
              "    }\n",
              "\n",
              "    .dataframe thead th {\n",
              "        text-align: right;\n",
              "    }\n",
              "</style>\n",
              "<table border=\"1\" class=\"dataframe\">\n",
              "  <thead>\n",
              "    <tr style=\"text-align: right;\">\n",
              "      <th></th>\n",
              "      <th>var</th>\n",
              "      <th>count</th>\n",
              "      <th>mean</th>\n",
              "      <th>movie title</th>\n",
              "    </tr>\n",
              "    <tr>\n",
              "      <th>item_id</th>\n",
              "      <th></th>\n",
              "      <th></th>\n",
              "      <th></th>\n",
              "      <th></th>\n",
              "    </tr>\n",
              "  </thead>\n",
              "  <tbody>\n",
              "    <tr>\n",
              "      <th>50</th>\n",
              "      <td>0.776762</td>\n",
              "      <td>583</td>\n",
              "      <td>4.358491</td>\n",
              "      <td>Star Wars (1977)</td>\n",
              "    </tr>\n",
              "    <tr>\n",
              "      <th>258</th>\n",
              "      <td>0.988885</td>\n",
              "      <td>509</td>\n",
              "      <td>3.803536</td>\n",
              "      <td>Contact (1997)</td>\n",
              "    </tr>\n",
              "    <tr>\n",
              "      <th>100</th>\n",
              "      <td>0.952100</td>\n",
              "      <td>508</td>\n",
              "      <td>4.155512</td>\n",
              "      <td>Fargo (1996)</td>\n",
              "    </tr>\n",
              "    <tr>\n",
              "      <th>181</th>\n",
              "      <td>0.853693</td>\n",
              "      <td>507</td>\n",
              "      <td>4.007890</td>\n",
              "      <td>Return of the Jedi (1983)</td>\n",
              "    </tr>\n",
              "    <tr>\n",
              "      <th>294</th>\n",
              "      <td>1.206799</td>\n",
              "      <td>485</td>\n",
              "      <td>3.156701</td>\n",
              "      <td>Liar Liar (1997)</td>\n",
              "    </tr>\n",
              "    <tr>\n",
              "      <th>286</th>\n",
              "      <td>1.367498</td>\n",
              "      <td>481</td>\n",
              "      <td>3.656965</td>\n",
              "      <td>English Patient, The (1996)</td>\n",
              "    </tr>\n",
              "    <tr>\n",
              "      <th>288</th>\n",
              "      <td>1.240796</td>\n",
              "      <td>478</td>\n",
              "      <td>3.441423</td>\n",
              "      <td>Scream (1996)</td>\n",
              "    </tr>\n",
              "    <tr>\n",
              "      <th>1</th>\n",
              "      <td>0.860992</td>\n",
              "      <td>452</td>\n",
              "      <td>3.878319</td>\n",
              "      <td>Toy Story (1995)</td>\n",
              "    </tr>\n",
              "    <tr>\n",
              "      <th>300</th>\n",
              "      <td>0.996147</td>\n",
              "      <td>431</td>\n",
              "      <td>3.631090</td>\n",
              "      <td>Air Force One (1997)</td>\n",
              "    </tr>\n",
              "    <tr>\n",
              "      <th>121</th>\n",
              "      <td>1.246759</td>\n",
              "      <td>429</td>\n",
              "      <td>3.438228</td>\n",
              "      <td>Independence Day (ID4) (1996)</td>\n",
              "    </tr>\n",
              "  </tbody>\n",
              "</table>\n",
              "</div>"
            ],
            "text/plain": [
              "              var  count      mean                    movie title\n",
              "item_id                                                          \n",
              "50       0.776762    583  4.358491               Star Wars (1977)\n",
              "258      0.988885    509  3.803536                 Contact (1997)\n",
              "100      0.952100    508  4.155512                   Fargo (1996)\n",
              "181      0.853693    507  4.007890      Return of the Jedi (1983)\n",
              "294      1.206799    485  3.156701               Liar Liar (1997)\n",
              "286      1.367498    481  3.656965    English Patient, The (1996)\n",
              "288      1.240796    478  3.441423                  Scream (1996)\n",
              "1        0.860992    452  3.878319               Toy Story (1995)\n",
              "300      0.996147    431  3.631090           Air Force One (1997)\n",
              "121      1.246759    429  3.438228  Independence Day (ID4) (1996)"
            ]
          },
          "metadata": {
            "tags": []
          },
          "execution_count": 18
        }
      ]
    },
    {
      "cell_type": "code",
      "metadata": {
        "id": "HMAgCCejCza5",
        "colab": {
          "base_uri": "https://localhost:8080/",
          "height": 235
        },
        "outputId": "448bb748-17a9-4153-ce76-94ede707d621"
      },
      "source": [
        "df_items = df_items.sort_values('count',ascending=False)\r\n",
        "df_items['count'].plot(kind='bar', xticks=[], figsize=(20,4))"
      ],
      "execution_count": 20,
      "outputs": [
        {
          "output_type": "execute_result",
          "data": {
            "text/plain": [
              "<matplotlib.axes._subplots.AxesSubplot at 0x7f92c524e2b0>"
            ]
          },
          "metadata": {
            "tags": []
          },
          "execution_count": 20
        },
        {
          "output_type": "display_data",
          "data": {
            "image/png": "[encoded data removed]",
            "text/plain": [
              "<Figure size 1440x288 with 1 Axes>"
            ]
          },
          "metadata": {
            "tags": [],
            "needs_background": "light"
          }
        }
      ]
    },
    {
      "cell_type": "code",
      "metadata": {
        "id": "C_O-o3Zb8-Dx"
      },
      "source": [
        ""
      ],
      "execution_count": null,
      "outputs": []
    },
    {
      "cell_type": "markdown",
      "metadata": {
        "id": "kG9eggK7cQIc"
      },
      "source": [
        "## Creación de listas de recomendación no personalizadas\n",
        "\n",
        "Genere inicialmente una lista de recomendación de tamaño 10 no personalizada con los items con mejor promedio, en teoría estos serían los mejores items del dataset y una buena lista inicial con los elementos más aclamados por los usuarios del sistema\n",
        "\n",
        "¿Qué problemas tiene generar una lista no personalizada solamente con el promedio?\n",
        "\n",
        "¿Es posible generar una mejor lista de recomendación teniendo en cuenta que tanto el número de ratings del item como su promedio? \n",
        "\n",
        "Cree una lista top 10 con los mejores items globales siguiendo la estrategia seleccionada\n",
        "\n",
        "Ver: \n",
        "\n",
        "http://www.evanmiller.org/how-not-to-sort-by-average-rating.html\n",
        "\n",
        "https://es.wikipedia.org/wiki/Intervalo_de_confianza\n"
      ]
    },
    {
      "cell_type": "code",
      "metadata": {
        "id": "4XMG1LkAdXAv",
        "colab": {
          "base_uri": "https://localhost:8080/",
          "height": 390
        },
        "outputId": "a6115ed3-fd30-474f-c54e-c6fe33e73f2b"
      },
      "source": [
        "df_items.nlargest(10,'mean')"
      ],
      "execution_count": 21,
      "outputs": [
        {
          "output_type": "execute_result",
          "data": {
            "text/html": [
              "<div>\n",
              "<style scoped>\n",
              "    .dataframe tbody tr th:only-of-type {\n",
              "        vertical-align: middle;\n",
              "    }\n",
              "\n",
              "    .dataframe tbody tr th {\n",
              "        vertical-align: top;\n",
              "    }\n",
              "\n",
              "    .dataframe thead th {\n",
              "        text-align: right;\n",
              "    }\n",
              "</style>\n",
              "<table border=\"1\" class=\"dataframe\">\n",
              "  <thead>\n",
              "    <tr style=\"text-align: right;\">\n",
              "      <th></th>\n",
              "      <th>var</th>\n",
              "      <th>count</th>\n",
              "      <th>mean</th>\n",
              "      <th>movie title</th>\n",
              "    </tr>\n",
              "    <tr>\n",
              "      <th>item_id</th>\n",
              "      <th></th>\n",
              "      <th></th>\n",
              "      <th></th>\n",
              "      <th></th>\n",
              "    </tr>\n",
              "  </thead>\n",
              "  <tbody>\n",
              "    <tr>\n",
              "      <th>1293</th>\n",
              "      <td>0.0</td>\n",
              "      <td>3</td>\n",
              "      <td>5.0</td>\n",
              "      <td>Star Kid (1997)</td>\n",
              "    </tr>\n",
              "    <tr>\n",
              "      <th>1189</th>\n",
              "      <td>0.0</td>\n",
              "      <td>3</td>\n",
              "      <td>5.0</td>\n",
              "      <td>Prefontaine (1997)</td>\n",
              "    </tr>\n",
              "    <tr>\n",
              "      <th>1500</th>\n",
              "      <td>0.0</td>\n",
              "      <td>2</td>\n",
              "      <td>5.0</td>\n",
              "      <td>Santa with Muscles (1996)</td>\n",
              "    </tr>\n",
              "    <tr>\n",
              "      <th>1467</th>\n",
              "      <td>0.0</td>\n",
              "      <td>2</td>\n",
              "      <td>5.0</td>\n",
              "      <td>Saint of Fort Washington, The (1993)</td>\n",
              "    </tr>\n",
              "    <tr>\n",
              "      <th>1536</th>\n",
              "      <td>NaN</td>\n",
              "      <td>1</td>\n",
              "      <td>5.0</td>\n",
              "      <td>Aiqing wansui (1994)</td>\n",
              "    </tr>\n",
              "    <tr>\n",
              "      <th>1599</th>\n",
              "      <td>NaN</td>\n",
              "      <td>1</td>\n",
              "      <td>5.0</td>\n",
              "      <td>Someone Else's America (1995)</td>\n",
              "    </tr>\n",
              "    <tr>\n",
              "      <th>814</th>\n",
              "      <td>NaN</td>\n",
              "      <td>1</td>\n",
              "      <td>5.0</td>\n",
              "      <td>Great Day in Harlem, A (1994)</td>\n",
              "    </tr>\n",
              "    <tr>\n",
              "      <th>1201</th>\n",
              "      <td>NaN</td>\n",
              "      <td>1</td>\n",
              "      <td>5.0</td>\n",
              "      <td>Marlene Dietrich: Shadow and Light (1996)</td>\n",
              "    </tr>\n",
              "    <tr>\n",
              "      <th>1653</th>\n",
              "      <td>NaN</td>\n",
              "      <td>1</td>\n",
              "      <td>5.0</td>\n",
              "      <td>Entertaining Angels: The Dorothy Day Story (1996)</td>\n",
              "    </tr>\n",
              "    <tr>\n",
              "      <th>1122</th>\n",
              "      <td>NaN</td>\n",
              "      <td>1</td>\n",
              "      <td>5.0</td>\n",
              "      <td>They Made Me a Criminal (1939)</td>\n",
              "    </tr>\n",
              "  </tbody>\n",
              "</table>\n",
              "</div>"
            ],
            "text/plain": [
              "         var  count  mean                                        movie title\n",
              "item_id                                                                     \n",
              "1293     0.0      3   5.0                                    Star Kid (1997)\n",
              "1189     0.0      3   5.0                                 Prefontaine (1997)\n",
              "1500     0.0      2   5.0                          Santa with Muscles (1996)\n",
              "1467     0.0      2   5.0               Saint of Fort Washington, The (1993)\n",
              "1536     NaN      1   5.0                               Aiqing wansui (1994)\n",
              "1599     NaN      1   5.0                      Someone Else's America (1995)\n",
              "814      NaN      1   5.0                      Great Day in Harlem, A (1994)\n",
              "1201     NaN      1   5.0         Marlene Dietrich: Shadow and Light (1996) \n",
              "1653     NaN      1   5.0  Entertaining Angels: The Dorothy Day Story (1996)\n",
              "1122     NaN      1   5.0                     They Made Me a Criminal (1939)"
            ]
          },
          "metadata": {
            "tags": []
          },
          "execution_count": 21
        }
      ]
    },
    {
      "cell_type": "code",
      "metadata": {
        "id": "XWiogp7udWwI"
      },
      "source": [
        "import math\r\n",
        "import scipy.stats as st\r\n",
        "\r\n",
        "def wilson_lower_bound(pos, n, confidence=0.95):\r\n",
        "    \"\"\"\r\n",
        "    Function to provide lower bound of wilson score\r\n",
        "    :param pos: No of positive ratings\r\n",
        "    :param n: Total number of ratings\r\n",
        "    :param confidence: Confidence interval, by default is 95 %\r\n",
        "    :return: Wilson Lower bound score\r\n",
        "    \"\"\"\r\n",
        "    if n == 0:\r\n",
        "        return 0\r\n",
        "    z = st.norm.ppf(1 - (1 - confidence) / 2)\r\n",
        "    phat = 1.0 * pos / n\r\n",
        "    return (phat + z * z / (2 * n) - z * math.sqrt((phat * (1 - phat) + z * z / (4 * n)) / n)) / (1 + z * z / n)"
      ],
      "execution_count": 22,
      "outputs": []
    },
    {
      "cell_type": "code",
      "metadata": {
        "id": "aprmG7J-_oo7",
        "colab": {
          "base_uri": "https://localhost:8080/",
          "height": 235
        },
        "outputId": "706adfc5-ec88-4984-dd0e-89042d0a3951"
      },
      "source": [
        "n = ratings.shape[0]\r\n",
        "\r\n",
        "pos = ratings[ratings.rating>3]\r\n",
        "df_ratings_positivos = pos.groupby('item_id')['rating'].agg({'count'})\r\n",
        "df_ratings_positivos.head()"
      ],
      "execution_count": 25,
      "outputs": [
        {
          "output_type": "execute_result",
          "data": {
            "text/html": [
              "<div>\n",
              "<style scoped>\n",
              "    .dataframe tbody tr th:only-of-type {\n",
              "        vertical-align: middle;\n",
              "    }\n",
              "\n",
              "    .dataframe tbody tr th {\n",
              "        vertical-align: top;\n",
              "    }\n",
              "\n",
              "    .dataframe thead th {\n",
              "        text-align: right;\n",
              "    }\n",
              "</style>\n",
              "<table border=\"1\" class=\"dataframe\">\n",
              "  <thead>\n",
              "    <tr style=\"text-align: right;\">\n",
              "      <th></th>\n",
              "      <th>count</th>\n",
              "    </tr>\n",
              "    <tr>\n",
              "      <th>item_id</th>\n",
              "      <th></th>\n",
              "    </tr>\n",
              "  </thead>\n",
              "  <tbody>\n",
              "    <tr>\n",
              "      <th>1</th>\n",
              "      <td>321</td>\n",
              "    </tr>\n",
              "    <tr>\n",
              "      <th>2</th>\n",
              "      <td>51</td>\n",
              "    </tr>\n",
              "    <tr>\n",
              "      <th>3</th>\n",
              "      <td>34</td>\n",
              "    </tr>\n",
              "    <tr>\n",
              "      <th>4</th>\n",
              "      <td>122</td>\n",
              "    </tr>\n",
              "    <tr>\n",
              "      <th>5</th>\n",
              "      <td>39</td>\n",
              "    </tr>\n",
              "  </tbody>\n",
              "</table>\n",
              "</div>"
            ],
            "text/plain": [
              "         count\n",
              "item_id       \n",
              "1          321\n",
              "2           51\n",
              "3           34\n",
              "4          122\n",
              "5           39"
            ]
          },
          "metadata": {
            "tags": []
          },
          "execution_count": 25
        }
      ]
    },
    {
      "cell_type": "code",
      "metadata": {
        "id": "bCUWyEXB_ON-"
      },
      "source": [
        ""
      ],
      "execution_count": null,
      "outputs": []
    },
    {
      "cell_type": "markdown",
      "metadata": {
        "id": "c7BO4guxySk3"
      },
      "source": [
        "#Creación del dataset de entrenamiento y prueba\n",
        "\n",
        "El próximo paso es cargar los datos a surprise, para esto vamos a inicializar un modelo de datos de surprise con la información de los ratings cargados en el dataframe"
      ]
    },
    {
      "cell_type": "markdown",
      "metadata": {
        "id": "1PE9yuetbxnQ"
      },
      "source": [
        ""
      ]
    },
    {
      "cell_type": "code",
      "metadata": {
        "id": "xzF3iMfVzWiz"
      },
      "source": [
        "reader = Reader( rating_scale = ( 1, 5 ) )\n",
        "#Se crea el dataset a partir del dataframe\n",
        "surprise_dataset = Dataset.load_from_df( ratings[ [ 'user_id', 'item_id', 'rating' ] ], reader )"
      ],
      "execution_count": null,
      "outputs": []
    },
    {
      "cell_type": "markdown",
      "metadata": {
        "id": "aBSHMZu-IaDE"
      },
      "source": [
        "Se divide el dataset en entrenamiento y test. El dataset de entrenamiento será presentado al algoritmo de recomendación y el dataset de test nos servirá para medir qué tan buenas fueron las predicciones del sistema de recomendación. El conjunto de test generado es una lista con los ratings de prueba"
      ]
    },
    {
      "cell_type": "code",
      "metadata": {
        "id": "wVCXEv2zHDN7"
      },
      "source": [
        "train_set, test_set=  train_test_split(surprise_dataset, test_size=.2)"
      ],
      "execution_count": null,
      "outputs": []
    },
    {
      "cell_type": "code",
      "metadata": {
        "id": "z3NBak6JZWgP"
      },
      "source": [
        "train_set.n_ratings"
      ],
      "execution_count": null,
      "outputs": []
    },
    {
      "cell_type": "code",
      "metadata": {
        "id": "bUyMSnUEdOOT"
      },
      "source": [
        "len(test_set)"
      ],
      "execution_count": null,
      "outputs": []
    },
    {
      "cell_type": "code",
      "metadata": {
        "id": "HDamSIDVZabW"
      },
      "source": [
        "#Este es el primer elemento del dataset de prueba (usuario 154, pelicula 302, rating 4)\n",
        "test_set[0]"
      ],
      "execution_count": null,
      "outputs": []
    },
    {
      "cell_type": "markdown",
      "metadata": {
        "id": "kOd-SiVhLd_x"
      },
      "source": [
        "## Creación de modelo de filtrado colaborativo basado en similitud con usuarios o items cercanos\n",
        "\n",
        "Surprise cuenta con la implementación de los modelos colaborativos dentro de la clase [KNNBasic](https://surprise.readthedocs.io/en/stable/knn_inspired.html) \n",
        "\n",
        "El modelo recibe los siguientes parámetros: \n",
        "\n",
        "\n",
        "*   k: El máximo número de vecinos con el que se hará la extrapolación\n",
        "*   min_k : El mínimo número de vecinos con el que se extrapolará un rating\n",
        "*   sim_options : Opciones de similitud pasadas como un diccionario de python, aqui se le configura al modelo el tipo de similitud a usar para encontrar los vecinos y si la extrapolación debe hacerse usando usuarios o items similares. Revise el formato y similitudes disponibles en surprise en [este link](https://surprise.readthedocs.io/en/stable/prediction_algorithms.html#similarity-measure-configuration)\n",
        "\n",
        "\n",
        "\n"
      ]
    },
    {
      "cell_type": "code",
      "metadata": {
        "id": "s5A8reiHLdXy"
      },
      "source": [
        "# se crea un modelo knnbasic item-item con similitud coseno \n",
        "sim_options = {'name': 'cosine',\n",
        "               'user_based': False  # calcule similitud item-item\n",
        "               }\n",
        "algo = KNNBasic(k=20, min_k=2, sim_options=sim_options)"
      ],
      "execution_count": null,
      "outputs": []
    },
    {
      "cell_type": "code",
      "metadata": {
        "id": "_G8gUHeoUzR-"
      },
      "source": [
        "#Se le pasa la matriz de utilidad al algoritmo \n",
        "algo.fit(trainset=train_set)"
      ],
      "execution_count": null,
      "outputs": []
    },
    {
      "cell_type": "markdown",
      "metadata": {
        "id": "4B1_I0LqY6rd"
      },
      "source": [
        "Una vez cargados los ratings al modelo, se puede realizar una predicción para un usuario, en este caso vamos a calcular la predicción que el modelo esta realizando para la primera entrada del dataset de test la predicción para el usuario con id 154 y el item con id 302, que corresponde a la película L.A. Confidential (1997)\n",
        "\n",
        "---\n",
        "\n"
      ]
    },
    {
      "cell_type": "code",
      "metadata": {
        "id": "AdwrR8gVFQuD"
      },
      "source": [
        "#Verifique la propiedad est de la predicción\n",
        "algo.predict(154,302)"
      ],
      "execution_count": null,
      "outputs": []
    },
    {
      "cell_type": "code",
      "metadata": {
        "id": "dzK37VDQIRIT"
      },
      "source": [
        "items[items['movie id']==302]"
      ],
      "execution_count": null,
      "outputs": []
    },
    {
      "cell_type": "markdown",
      "metadata": {
        "id": "75RWLbA2a2BE"
      },
      "source": [
        "Como podemos ver, la predicción (4.24) del modelo no esta alejada de lo que realmente opinó el usuario  (4.0)\n",
        "\n",
        "Para medir la calidad de la predicción para todos los usuarios e items del dataset de prueba, vamos a comparar lo que dice el modelo de predicción vs lo que dice el conjunto de prueba, para esto vamos a usar la métrica [RMSE](https://surprise.readthedocs.io/en/stable/accuracy.html#surprise.accuracy.rmse)\n",
        "\n",
        "Inicialmente calculamos la predicción para todos los elementos del conjunto de test"
      ]
    },
    {
      "cell_type": "code",
      "metadata": {
        "id": "xOl2ObNSIk8T"
      },
      "source": [
        "test_predictions=algo.test(test_set)"
      ],
      "execution_count": null,
      "outputs": []
    },
    {
      "cell_type": "code",
      "metadata": {
        "id": "kRlvK_f2ZN7t"
      },
      "source": [
        "#5 primeras predicciones\n",
        "test_predictions[0:5]"
      ],
      "execution_count": null,
      "outputs": []
    },
    {
      "cell_type": "markdown",
      "metadata": {
        "id": "yqgYbxzwe59D"
      },
      "source": [
        "Ahora se mide el RMSE de las predicciones vs el valor del dataset"
      ]
    },
    {
      "cell_type": "code",
      "metadata": {
        "id": "RDK_8jlUeyVL"
      },
      "source": [
        "# En promedio, el sistema encuentra ratings que estan una estrella por encima o por debajo del rating del usuario\n",
        "accuracy.rmse( test_predictions, verbose = True )"
      ],
      "execution_count": null,
      "outputs": []
    },
    {
      "cell_type": "markdown",
      "metadata": {
        "id": "Ge8msMcPgFwy"
      },
      "source": [
        "##Utilice las siguientes celdas para encontrar la respuesta a las siguientes preguntas\n",
        "\n",
        "¿Cuál es el RMSE de un modelo usuario-usuario con los mismos parámetros de similitud?\n",
        "\n",
        "¿Cuál es el efecto de cambiar el número de vecinos en la calidad del modelo usuario-usuario ? \n",
        "\n",
        "Pruebe para un número diferente de vecinos (e.j 5, 10, 20, 50, 100)"
      ]
    },
    {
      "cell_type": "code",
      "metadata": {
        "id": "0Eb-sHBnfw8b"
      },
      "source": [
        ""
      ],
      "execution_count": null,
      "outputs": []
    },
    {
      "cell_type": "code",
      "metadata": {
        "id": "RgE2Oib_gYuK"
      },
      "source": [
        ""
      ],
      "execution_count": null,
      "outputs": []
    },
    {
      "cell_type": "markdown",
      "metadata": {
        "id": "ZqMr2MlbkJch"
      },
      "source": [
        "##Generando listas de predicciones para los usuarios\n",
        "\n",
        "Retomemos nuestro modelo inicial y ajustémolo con todos los ratings disponibles\n",
        "\n",
        "Para generar una lista de recomendación se debe crear un dataset de \"test\" con las entradas faltantes de la matriz utilidad para que el modelo cree las predicciones (terminar de llenar la matriz de utilidad)\n",
        "\n"
      ]
    },
    {
      "cell_type": "code",
      "metadata": {
        "id": "y0ZYsiPXktjg"
      },
      "source": [
        "#Se crea el dataset para modelo \n",
        "rating_data=surprise_dataset.build_full_trainset()\n",
        "# Se crea dataset de \"prueba\" con las entradas faltantes para generar las predicciones\n",
        "test=rating_data.build_anti_testset()\n",
        "\n",
        "# se crea el mismo modelo que el del ejemplo\n",
        "sim_options = {'name': 'cosine',\n",
        "               'user_based': False  # calcule similitud item-item\n",
        "               }\n",
        "algo = KNNBasic(k=20, min_k=2, sim_options=sim_options)\n",
        "algo.fit(rating_data)\n",
        "predictions=algo.test(test)"
      ],
      "execution_count": null,
      "outputs": []
    },
    {
      "cell_type": "code",
      "metadata": {
        "id": "eH2O_3iFsR6e"
      },
      "source": [
        "#10 primeras predicciones\n",
        "predictions[0:10]"
      ],
      "execution_count": null,
      "outputs": []
    },
    {
      "cell_type": "code",
      "metadata": {
        "id": "Bd8lOnRXpPBm"
      },
      "source": [
        "#Predicciones para usuario 196\n",
        "user_predictions=list(filter(lambda x: x[0]==196,predictions))"
      ],
      "execution_count": null,
      "outputs": []
    },
    {
      "cell_type": "code",
      "metadata": {
        "id": "NIQAuEo4rHA2"
      },
      "source": [
        "#Ordenamos de mayor a menor estimación de relevancia\n",
        "user_predictions.sort(key=lambda x : x.est, reverse=True)"
      ],
      "execution_count": null,
      "outputs": []
    },
    {
      "cell_type": "code",
      "metadata": {
        "id": "GmcwrOJ-sy9G"
      },
      "source": [
        "#tomamos las 10 primeras predicciones\n",
        "user_predictions=user_predictions[0:10]"
      ],
      "execution_count": null,
      "outputs": []
    },
    {
      "cell_type": "code",
      "metadata": {
        "id": "FFaVRp3dtBZF"
      },
      "source": [
        "user_predictions"
      ],
      "execution_count": null,
      "outputs": []
    },
    {
      "cell_type": "code",
      "metadata": {
        "id": "7kRPNGHEtcux"
      },
      "source": [
        "#Se convierte a dataframe\n",
        "labels = ['movie id', 'estimation']\n",
        "df_predictions = pd.DataFrame.from_records(list(map(lambda x: (x.iid, x.est) , user_predictions)), columns=labels)"
      ],
      "execution_count": null,
      "outputs": []
    },
    {
      "cell_type": "code",
      "metadata": {
        "id": "2jN05Pskz8jN"
      },
      "source": [
        "df_predictions"
      ],
      "execution_count": null,
      "outputs": []
    },
    {
      "cell_type": "code",
      "metadata": {
        "id": "YvWQuyJGuaGV"
      },
      "source": [
        "#Lo unimos con el dataframe de películas\n",
        "df_predictions.merge(items[['movie title','IMDb URL ']], how='left', right_index=True, left_on='movie id')"
      ],
      "execution_count": null,
      "outputs": []
    },
    {
      "cell_type": "markdown",
      "metadata": {
        "id": "4oAheKoNvTU0"
      },
      "source": [
        "## Utilice las siguientes celdas para encontrar la respuesta a las siguientes preguntas\n",
        "\n",
        "Cree al menos 2 usuarios (al primero asígnele el id 944) y cree para cada usuario ratings nuevos (puede hacerlo haciendo a traves del [dataframe](https://pandas.pydata.org/pandas-docs/stable/reference/api/pandas.DataFrame.append.html), o añadiendo líneas al archivo). Asigne a un usuario preferencias de un segmento popular (mainstream) y a otro preferencias de un nicho.\n",
        "\n",
        "¿Que tan bien cree que el sistema esta respondiendo a los gustos del usuario?\n",
        "\n",
        "¿Que tan bien cree que el sistema esta respondiendo al objetivo de buscar items para el usuario dentro de la cola larga?"
      ]
    },
    {
      "cell_type": "code",
      "metadata": {
        "id": "mQ4vk_19unXV"
      },
      "source": [
        "ratings['user_id'].max()+1"
      ],
      "execution_count": null,
      "outputs": []
    },
    {
      "cell_type": "code",
      "metadata": {
        "id": "EcoiOZIavjLl"
      },
      "source": [
        ""
      ],
      "execution_count": null,
      "outputs": []
    }
  ]
}